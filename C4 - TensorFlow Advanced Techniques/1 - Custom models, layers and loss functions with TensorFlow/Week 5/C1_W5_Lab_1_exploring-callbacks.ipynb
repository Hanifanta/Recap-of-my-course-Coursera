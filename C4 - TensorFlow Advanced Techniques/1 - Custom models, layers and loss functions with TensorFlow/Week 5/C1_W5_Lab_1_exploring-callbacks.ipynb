{
 "cells": [
  {
   "cell_type": "markdown",
   "metadata": {
    "colab_type": "text",
    "id": "view-in-github"
   },
   "source": [
    "<a href=\"https://colab.research.google.com/github/https-deeplearning-ai/tensorflow-3-public/blob/main/Course%201%20-%20Custom%20Models%2C%20Layers%20and%20Loss%20Functions/Week%205%20-%20Callbacks/C1_W5_Lab_1_exploring-callbacks.ipynb\" target=\"_parent\"><img src=\"https://colab.research.google.com/assets/colab-badge.svg\" alt=\"Open In Colab\"/></a>"
   ]
  },
  {
   "cell_type": "markdown",
   "metadata": {
    "colab_type": "text",
    "id": "0c_TYhQOUe1j"
   },
   "source": [
    "# Ungraded Lab: Introduction to Keras callbacks\n",
    "\n",
    "In Keras, `Callback` is a Python class meant to be subclassed to provide specific functionality, with a set of methods called at various stages of training (including batch/epoch start and ends), testing, and predicting. Callbacks are useful to get a view on internal states and statistics of the model during training. The methods of the callbacks can  be called at different stages of training/evaluating/inference. Keras has available [callbacks](https://keras.io/api/callbacks/) and we'll show how you can use it in the following sections. Please click the **Open in Colab** badge above to complete this exercise in Colab. This will allow you to take advantage of the free GPU runtime (for faster training) and compatibility with all the packages needed in this notebook."
   ]
  },
  {
   "cell_type": "markdown",
   "metadata": {
    "colab_type": "text",
    "id": "Uyl69EyRQx-f"
   },
   "source": [
    "## Model methods that take callbacks\n",
    "Users can supply a list of callbacks to the following `tf.keras.Model` methods:\n",
    "* [`fit()`](https://www.tensorflow.org/versions/r2.0/api_docs/python/tf/keras/Model#fit), [`fit_generator()`](https://www.tensorflow.org/versions/r2.0/api_docs/python/tf/keras/Model#fit_generator)\n",
    "Trains the model for a fixed number of epochs (iterations over a dataset, or data yielded batch-by-batch by a Python generator).\n",
    "* [`evaluate()`](https://www.tensorflow.org/versions/r2.0/api_docs/python/tf/keras/Model#evaluate), [`evaluate_generator()`](https://www.tensorflow.org/versions/r2.0/api_docs/python/tf/keras/Model#evaluate_generator)\n",
    "Evaluates the model for given data or data generator. Outputs the loss and metric values from the evaluation.\n",
    "* [`predict()`](https://www.tensorflow.org/versions/r2.0/api_docs/python/tf/keras/Model#predict), [`predict_generator()`](https://www.tensorflow.org/versions/r2.0/api_docs/python/tf/keras/Model#predict_generator)\n",
    "Generates output predictions for the input data or data generator."
   ]
  },
  {
   "cell_type": "markdown",
   "metadata": {},
   "source": [
    "## Imports"
   ]
  },
  {
   "cell_type": "code",
   "execution_count": 1,
   "metadata": {
    "colab": {},
    "colab_type": "code",
    "id": "AlT1Kh3uA9lZ"
   },
   "outputs": [
    {
     "name": "stdout",
     "output_type": "stream",
     "text": [
      "Version:  2.1.0\n"
     ]
    }
   ],
   "source": [
    "from __future__ import absolute_import, division, print_function, unicode_literals\n",
    "\n",
    "try:\n",
    "    # %tensorflow_version only exists in Colab.\n",
    "    %tensorflow_version 2.x\n",
    "except Exception:\n",
    "    pass\n",
    "\n",
    "import tensorflow as tf\n",
    "import tensorflow_datasets as tfds\n",
    "import matplotlib.pyplot as plt\n",
    "import io\n",
    "from PIL import Image\n",
    "\n",
    "from tensorflow.keras.callbacks import TensorBoard, EarlyStopping, LearningRateScheduler, ModelCheckpoint, CSVLogger, ReduceLROnPlateau\n",
    "%load_ext tensorboard\n",
    "\n",
    "import os\n",
    "import matplotlib.pylab as plt\n",
    "import numpy as np\n",
    "import math\n",
    "import datetime\n",
    "import pandas as pd\n",
    "\n",
    "print(\"Version: \", tf.__version__)\n",
    "tf.get_logger().setLevel('INFO')"
   ]
  },
  {
   "cell_type": "markdown",
   "metadata": {
    "colab_type": "text",
    "id": "HnSljqtsXKfb"
   },
   "source": [
    "# Examples of Keras callback applications\n",
    "The following section will guide you through creating simple [Callback](https://keras.io/api/callbacks/) applications."
   ]
  },
  {
   "cell_type": "code",
   "execution_count": 2,
   "metadata": {
    "colab": {},
    "colab_type": "code",
    "id": "spskRuxvCYQE"
   },
   "outputs": [],
   "source": [
    "# Download and prepare the horses or humans dataset\n",
    "\n",
    "# horses_or_humans 3.0.0 has already been downloaded for you\n",
    "path = \"./tensorflow_datasets\"\n",
    "splits, info = tfds.load('horses_or_humans', data_dir=path, as_supervised=True, with_info=True, split=['train[:80%]', 'train[80%:]', 'test'])\n",
    "\n",
    "(train_examples, validation_examples, test_examples) = splits\n",
    "\n",
    "num_examples = info.splits['train'].num_examples\n",
    "num_classes = info.features['label'].num_classes"
   ]
  },
  {
   "cell_type": "code",
   "execution_count": 3,
   "metadata": {
    "colab": {},
    "colab_type": "code",
    "id": "veIsubKTCZsN"
   },
   "outputs": [],
   "source": [
    "SIZE = 150 #@param {type:\"slider\", min:64, max:300, step:1}\n",
    "IMAGE_SIZE = (SIZE, SIZE)"
   ]
  },
  {
   "cell_type": "code",
   "execution_count": 4,
   "metadata": {
    "colab": {},
    "colab_type": "code",
    "id": "faajLlErCb1S"
   },
   "outputs": [],
   "source": [
    "def format_image(image, label):\n",
    "  image = tf.image.resize(image, IMAGE_SIZE) / 255.0\n",
    "  return  image, label"
   ]
  },
  {
   "cell_type": "code",
   "execution_count": 5,
   "metadata": {
    "colab": {},
    "colab_type": "code",
    "id": "AVXPuU12Cdka"
   },
   "outputs": [],
   "source": [
    "BATCH_SIZE = 32 #@param {type:\"integer\"}"
   ]
  },
  {
   "cell_type": "code",
   "execution_count": 6,
   "metadata": {
    "colab": {},
    "colab_type": "code",
    "id": "0lHDkFVaCe48"
   },
   "outputs": [],
   "source": [
    "train_batches = train_examples.shuffle(num_examples // 4).map(format_image).batch(BATCH_SIZE).prefetch(1)\n",
    "validation_batches = validation_examples.map(format_image).batch(BATCH_SIZE).prefetch(1)\n",
    "test_batches = test_examples.map(format_image).batch(1)"
   ]
  },
  {
   "cell_type": "code",
   "execution_count": 7,
   "metadata": {
    "colab": {},
    "colab_type": "code",
    "id": "DxsCqEIkCgUt"
   },
   "outputs": [
    {
     "data": {
      "text/plain": [
       "TensorShape([32, 150, 150, 3])"
      ]
     },
     "execution_count": 7,
     "metadata": {},
     "output_type": "execute_result"
    }
   ],
   "source": [
    "for image_batch, label_batch in train_batches.take(1):\n",
    "  pass\n",
    "\n",
    "image_batch.shape"
   ]
  },
  {
   "cell_type": "code",
   "execution_count": 8,
   "metadata": {
    "colab": {},
    "colab_type": "code",
    "id": "iDBpWvHXCh2A"
   },
   "outputs": [],
   "source": [
    "def build_model(dense_units, input_shape=IMAGE_SIZE + (3,)):\n",
    "  model = tf.keras.models.Sequential([\n",
    "      tf.keras.layers.Conv2D(16, (3, 3), activation='relu', input_shape=input_shape),\n",
    "      tf.keras.layers.MaxPooling2D(2, 2),\n",
    "      tf.keras.layers.Conv2D(32, (3, 3), activation='relu'),\n",
    "      tf.keras.layers.MaxPooling2D(2, 2),\n",
    "      tf.keras.layers.Conv2D(64, (3, 3), activation='relu'),\n",
    "      tf.keras.layers.MaxPooling2D(2, 2),\n",
    "      tf.keras.layers.Flatten(),\n",
    "      tf.keras.layers.Dense(dense_units, activation='relu'),\n",
    "      tf.keras.layers.Dense(2, activation='softmax')\n",
    "  ])\n",
    "  return model"
   ]
  },
  {
   "cell_type": "markdown",
   "metadata": {
    "colab_type": "text",
    "id": "0ZKGkjagENSw"
   },
   "source": [
    "## [TensorBoard](https://keras.io/api/callbacks/tensorboard/)\n",
    "\n",
    "Enable visualizations for TensorBoard."
   ]
  },
  {
   "cell_type": "code",
   "execution_count": 9,
   "metadata": {
    "colab": {},
    "colab_type": "code",
    "id": "CeiD2WVEHbex"
   },
   "outputs": [],
   "source": [
    "!rm -rf logs"
   ]
  },
  {
   "cell_type": "code",
   "execution_count": 10,
   "metadata": {
    "colab": {},
    "colab_type": "code",
    "id": "PpLwPLnAEOzv"
   },
   "outputs": [
    {
     "name": "stdout",
     "output_type": "stream",
     "text": [
      "Epoch 1/10\n",
      "26/26 [==============================] - 25s 963ms/step - loss: 0.6598 - accuracy: 0.6095 - val_loss: 0.6315 - val_accuracy: 0.6439\n",
      "Epoch 2/10\n",
      "26/26 [==============================] - 24s 904ms/step - loss: 0.6120 - accuracy: 0.6606 - val_loss: 0.6705 - val_accuracy: 0.5268\n",
      "Epoch 3/10\n",
      "26/26 [==============================] - 24s 915ms/step - loss: 0.5723 - accuracy: 0.7251 - val_loss: 0.7251 - val_accuracy: 0.5122\n",
      "Epoch 4/10\n",
      "26/26 [==============================] - 24s 912ms/step - loss: 0.5208 - accuracy: 0.7506 - val_loss: 0.4830 - val_accuracy: 0.8390\n",
      "Epoch 5/10\n",
      "26/26 [==============================] - 27s 1s/step - loss: 0.4482 - accuracy: 0.8005 - val_loss: 0.4033 - val_accuracy: 0.8439\n",
      "Epoch 6/10\n",
      "26/26 [==============================] - 25s 947ms/step - loss: 0.4104 - accuracy: 0.8224 - val_loss: 0.3696 - val_accuracy: 0.8293\n",
      "Epoch 7/10\n",
      "26/26 [==============================] - 24s 934ms/step - loss: 0.3390 - accuracy: 0.8662 - val_loss: 0.2910 - val_accuracy: 0.8732\n",
      "Epoch 8/10\n",
      "26/26 [==============================] - 23s 892ms/step - loss: 0.3342 - accuracy: 0.8686 - val_loss: 0.2626 - val_accuracy: 0.9220\n",
      "Epoch 9/10\n",
      "26/26 [==============================] - 23s 870ms/step - loss: 0.2760 - accuracy: 0.8954 - val_loss: 0.4604 - val_accuracy: 0.8000\n",
      "Epoch 10/10\n",
      "26/26 [==============================] - 24s 934ms/step - loss: 0.2348 - accuracy: 0.9148 - val_loss: 0.1926 - val_accuracy: 0.9512\n"
     ]
    },
    {
     "data": {
      "text/plain": [
       "<tensorflow.python.keras.callbacks.History at 0x7ff379827f50>"
      ]
     },
     "execution_count": 10,
     "metadata": {},
     "output_type": "execute_result"
    }
   ],
   "source": [
    "model = build_model(dense_units=256)\n",
    "model.compile(\n",
    "    optimizer='sgd',\n",
    "    loss='sparse_categorical_crossentropy', \n",
    "    metrics=['accuracy'])\n",
    "  \n",
    "logdir = os.path.join(\"logs\", datetime.datetime.now().strftime(\"%Y%m%d-%H%M%S\"))\n",
    "tensorboard_callback = tf.keras.callbacks.TensorBoard(logdir)\n",
    "\n",
    "model.fit(train_batches, \n",
    "          epochs=10, \n",
    "          validation_data=validation_batches, \n",
    "          callbacks=[tensorboard_callback])"
   ]
  },
  {
   "cell_type": "code",
   "execution_count": 11,
   "metadata": {
    "colab": {},
    "colab_type": "code",
    "id": "iJunWOjZE0ir"
   },
   "outputs": [
    {
     "data": {
      "text/html": [
       "\n",
       "      <iframe id=\"tensorboard-frame-642c83a023623626\" width=\"100%\" height=\"800\" frameborder=\"0\">\n",
       "      </iframe>\n",
       "      <script>\n",
       "        (function() {\n",
       "          const frame = document.getElementById(\"tensorboard-frame-642c83a023623626\");\n",
       "          const url = new URL(\"/\", window.location);\n",
       "          url.port = 6006;\n",
       "          frame.src = url;\n",
       "        })();\n",
       "      </script>\n",
       "  "
      ],
      "text/plain": [
       "<IPython.core.display.HTML object>"
      ]
     },
     "metadata": {},
     "output_type": "display_data"
    }
   ],
   "source": [
    "%tensorboard --logdir logs"
   ]
  },
  {
   "cell_type": "markdown",
   "metadata": {
    "colab_type": "text",
    "id": "wv9H4Pc2Mfl7"
   },
   "source": [
    "## [Model Checkpoint](https://keras.io/api/callbacks/model_checkpoint/)\n",
    "\n",
    "Callback to save the Keras model or model weights at some frequency."
   ]
  },
  {
   "cell_type": "code",
   "execution_count": 12,
   "metadata": {
    "colab": {},
    "colab_type": "code",
    "id": "PYV4FJ8iMmDq"
   },
   "outputs": [
    {
     "name": "stdout",
     "output_type": "stream",
     "text": [
      "Epoch 1/5\n",
      "\n",
      "Epoch 00001: saving model to weights.01-0.66.h5\n",
      "26/26 - 27s - loss: 0.6450 - accuracy: 0.6290 - val_loss: 0.6606 - val_accuracy: 0.5366\n",
      "Epoch 2/5\n",
      "\n",
      "Epoch 00002: saving model to weights.02-0.56.h5\n",
      "26/26 - 25s - loss: 0.5952 - accuracy: 0.6813 - val_loss: 0.5604 - val_accuracy: 0.8049\n",
      "Epoch 3/5\n",
      "\n",
      "Epoch 00003: saving model to weights.03-0.52.h5\n",
      "26/26 - 26s - loss: 0.5476 - accuracy: 0.7348 - val_loss: 0.5230 - val_accuracy: 0.7512\n",
      "Epoch 4/5\n",
      "\n",
      "Epoch 00004: saving model to weights.04-0.44.h5\n",
      "26/26 - 24s - loss: 0.4902 - accuracy: 0.7786 - val_loss: 0.4421 - val_accuracy: 0.7951\n",
      "Epoch 5/5\n",
      "\n",
      "Epoch 00005: saving model to weights.05-0.41.h5\n",
      "26/26 - 24s - loss: 0.4115 - accuracy: 0.8248 - val_loss: 0.4076 - val_accuracy: 0.8683\n"
     ]
    },
    {
     "data": {
      "text/plain": [
       "<tensorflow.python.keras.callbacks.History at 0x7ff3796eaa50>"
      ]
     },
     "execution_count": 12,
     "metadata": {},
     "output_type": "execute_result"
    }
   ],
   "source": [
    "model = build_model(dense_units=256)\n",
    "model.compile(\n",
    "    optimizer='sgd',\n",
    "    loss='sparse_categorical_crossentropy', \n",
    "    metrics=['accuracy'])\n",
    "  \n",
    "model.fit(train_batches, \n",
    "          epochs=5, \n",
    "          validation_data=validation_batches, \n",
    "          verbose=2,\n",
    "          callbacks=[ModelCheckpoint('weights.{epoch:02d}-{val_loss:.2f}.h5', verbose=1),\n",
    "          ])"
   ]
  },
  {
   "cell_type": "code",
   "execution_count": 13,
   "metadata": {
    "colab": {},
    "colab_type": "code",
    "id": "oGvjQ8IlMmK6"
   },
   "outputs": [
    {
     "name": "stdout",
     "output_type": "stream",
     "text": [
      "\n",
      "Epoch 00001: saving model to saved_model\n",
      "WARNING:tensorflow:From /opt/conda/lib/python3.7/site-packages/tensorflow_core/python/ops/resource_variable_ops.py:1786: calling BaseResourceVariable.__init__ (from tensorflow.python.ops.resource_variable_ops) with constraint is deprecated and will be removed in a future version.\n",
      "Instructions for updating:\n",
      "If using Keras pass *_constraint arguments to layers.\n"
     ]
    },
    {
     "name": "stderr",
     "output_type": "stream",
     "text": [
      "WARNING:tensorflow:From /opt/conda/lib/python3.7/site-packages/tensorflow_core/python/ops/resource_variable_ops.py:1786: calling BaseResourceVariable.__init__ (from tensorflow.python.ops.resource_variable_ops) with constraint is deprecated and will be removed in a future version.\n",
      "Instructions for updating:\n",
      "If using Keras pass *_constraint arguments to layers.\n"
     ]
    },
    {
     "name": "stdout",
     "output_type": "stream",
     "text": [
      "INFO:tensorflow:Assets written to: saved_model/assets\n"
     ]
    },
    {
     "name": "stderr",
     "output_type": "stream",
     "text": [
      "INFO:tensorflow:Assets written to: saved_model/assets\n"
     ]
    },
    {
     "name": "stdout",
     "output_type": "stream",
     "text": [
      "26/26 - 26s - loss: 0.6792 - accuracy: 0.5900 - val_loss: 0.6738 - val_accuracy: 0.5220\n"
     ]
    },
    {
     "data": {
      "text/plain": [
       "<tensorflow.python.keras.callbacks.History at 0x7ff3795a8190>"
      ]
     },
     "execution_count": 13,
     "metadata": {},
     "output_type": "execute_result"
    }
   ],
   "source": [
    "model = build_model(dense_units=256)\n",
    "model.compile(\n",
    "    optimizer='sgd',\n",
    "    loss='sparse_categorical_crossentropy', \n",
    "    metrics=['accuracy'])\n",
    "  \n",
    "model.fit(train_batches, \n",
    "          epochs=1, \n",
    "          validation_data=validation_batches, \n",
    "          verbose=2,\n",
    "          callbacks=[ModelCheckpoint('saved_model', verbose=1)\n",
    "          ])"
   ]
  },
  {
   "cell_type": "code",
   "execution_count": 14,
   "metadata": {
    "colab": {},
    "colab_type": "code",
    "id": "Y1ConwoB0EjD"
   },
   "outputs": [
    {
     "name": "stdout",
     "output_type": "stream",
     "text": [
      "Epoch 1/2\n",
      "\n",
      "Epoch 00001: saving model to model.h5\n",
      "26/26 - 22s - loss: 0.6746 - accuracy: 0.5681 - val_loss: 0.6717 - val_accuracy: 0.4829\n",
      "Epoch 2/2\n",
      "\n",
      "Epoch 00002: saving model to model.h5\n",
      "26/26 - 22s - loss: 0.6430 - accuracy: 0.6910 - val_loss: 0.6242 - val_accuracy: 0.7951\n"
     ]
    },
    {
     "data": {
      "text/plain": [
       "<tensorflow.python.keras.callbacks.History at 0x7ff379409310>"
      ]
     },
     "execution_count": 14,
     "metadata": {},
     "output_type": "execute_result"
    }
   ],
   "source": [
    "model = build_model(dense_units=256)\n",
    "model.compile(\n",
    "    optimizer='sgd',\n",
    "    loss='sparse_categorical_crossentropy', \n",
    "    metrics=['accuracy'])\n",
    "  \n",
    "model.fit(train_batches, \n",
    "          epochs=2, \n",
    "          validation_data=validation_batches, \n",
    "          verbose=2,\n",
    "          callbacks=[ModelCheckpoint('model.h5', verbose=1)\n",
    "          ])"
   ]
  },
  {
   "cell_type": "markdown",
   "metadata": {
    "colab_type": "text",
    "id": "kptNF0--Lznv"
   },
   "source": [
    "## [Early stopping](https://keras.io/api/callbacks/early_stopping/)\n",
    "\n",
    "Stop training when a monitored metric has stopped improving."
   ]
  },
  {
   "cell_type": "code",
   "execution_count": 15,
   "metadata": {
    "colab": {},
    "colab_type": "code",
    "id": "KJOJTJYdCkdY"
   },
   "outputs": [
    {
     "name": "stdout",
     "output_type": "stream",
     "text": [
      "Epoch 1/50\n",
      "26/26 - 22s - loss: 0.6583 - accuracy: 0.6071 - val_loss: 0.6288 - val_accuracy: 0.6927\n",
      "Epoch 2/50\n",
      "26/26 - 21s - loss: 0.6200 - accuracy: 0.6752 - val_loss: 0.5802 - val_accuracy: 0.6634\n",
      "Epoch 3/50\n",
      "26/26 - 21s - loss: 0.5672 - accuracy: 0.7238 - val_loss: 0.5143 - val_accuracy: 0.7707\n",
      "Epoch 4/50\n",
      "26/26 - 22s - loss: 0.4949 - accuracy: 0.7859 - val_loss: 0.6720 - val_accuracy: 0.6000\n",
      "Epoch 5/50\n",
      "26/26 - 21s - loss: 0.4475 - accuracy: 0.7981 - val_loss: 0.5399 - val_accuracy: 0.7122\n",
      "Epoch 6/50\n",
      "26/26 - 21s - loss: 0.3815 - accuracy: 0.8552 - val_loss: 0.3460 - val_accuracy: 0.8976\n",
      "Epoch 7/50\n",
      "26/26 - 21s - loss: 0.3696 - accuracy: 0.8516 - val_loss: 0.2782 - val_accuracy: 0.9073\n",
      "Epoch 8/50\n",
      "26/26 - 21s - loss: 0.2712 - accuracy: 0.9027 - val_loss: 0.2134 - val_accuracy: 0.9512\n",
      "Epoch 9/50\n",
      "26/26 - 21s - loss: 0.2202 - accuracy: 0.9319 - val_loss: 0.2789 - val_accuracy: 0.8927\n",
      "Epoch 10/50\n",
      "26/26 - 21s - loss: 0.1743 - accuracy: 0.9513 - val_loss: 0.1297 - val_accuracy: 0.9756\n",
      "Epoch 11/50\n",
      "26/26 - 21s - loss: 0.2145 - accuracy: 0.9392 - val_loss: 0.1247 - val_accuracy: 0.9561\n",
      "Epoch 12/50\n",
      "26/26 - 21s - loss: 0.1194 - accuracy: 0.9745 - val_loss: 0.1090 - val_accuracy: 0.9610\n",
      "Epoch 13/50\n",
      "Restoring model weights from the end of the best epoch.\n",
      "26/26 - 21s - loss: 0.1144 - accuracy: 0.9720 - val_loss: 0.0836 - val_accuracy: 0.9854\n",
      "Epoch 00013: early stopping\n"
     ]
    },
    {
     "data": {
      "text/plain": [
       "<tensorflow.python.keras.callbacks.History at 0x7ff379247fd0>"
      ]
     },
     "execution_count": 15,
     "metadata": {},
     "output_type": "execute_result"
    }
   ],
   "source": [
    "model = build_model(dense_units=256)\n",
    "model.compile(\n",
    "    optimizer='sgd',\n",
    "    loss='sparse_categorical_crossentropy', \n",
    "    metrics=['accuracy'])\n",
    "  \n",
    "model.fit(train_batches, \n",
    "          epochs=50, \n",
    "          validation_data=validation_batches, \n",
    "          verbose=2,\n",
    "          callbacks=[EarlyStopping(\n",
    "              patience=3,\n",
    "              min_delta=0.05,\n",
    "              baseline=0.8,\n",
    "              mode='min',\n",
    "              monitor='val_loss',\n",
    "              restore_best_weights=True,\n",
    "              verbose=1)\n",
    "          ])"
   ]
  },
  {
   "cell_type": "markdown",
   "metadata": {
    "colab_type": "text",
    "id": "8mDzWUD4Pqq5"
   },
   "source": [
    "## [CSV Logger](https://keras.io/api/callbacks/csv_logger/)\n",
    "\n",
    "Callback that streams epoch results to a CSV file."
   ]
  },
  {
   "cell_type": "code",
   "execution_count": 16,
   "metadata": {
    "colab": {},
    "colab_type": "code",
    "id": "cffnMpmGPtMh"
   },
   "outputs": [
    {
     "name": "stdout",
     "output_type": "stream",
     "text": [
      "Epoch 1/5\n",
      "26/26 [==============================] - 21s 821ms/step - loss: 0.6728 - accuracy: 0.5730 - val_loss: 0.6557 - val_accuracy: 0.6341\n",
      "Epoch 2/5\n",
      "26/26 [==============================] - 21s 809ms/step - loss: 0.6261 - accuracy: 0.6825 - val_loss: 0.5940 - val_accuracy: 0.7951\n",
      "Epoch 3/5\n",
      "26/26 [==============================] - 21s 807ms/step - loss: 0.5660 - accuracy: 0.7555 - val_loss: 0.6427 - val_accuracy: 0.5463\n",
      "Epoch 4/5\n",
      "26/26 [==============================] - 21s 796ms/step - loss: 0.4796 - accuracy: 0.8041 - val_loss: 0.4260 - val_accuracy: 0.8341\n",
      "Epoch 5/5\n",
      "26/26 [==============================] - 21s 800ms/step - loss: 0.4073 - accuracy: 0.8431 - val_loss: 0.8892 - val_accuracy: 0.4927\n"
     ]
    },
    {
     "data": {
      "text/plain": [
       "<tensorflow.python.keras.callbacks.History at 0x7ff379156ad0>"
      ]
     },
     "execution_count": 16,
     "metadata": {},
     "output_type": "execute_result"
    }
   ],
   "source": [
    "model = build_model(dense_units=256)\n",
    "model.compile(\n",
    "    optimizer='sgd',\n",
    "    loss='sparse_categorical_crossentropy', \n",
    "    metrics=['accuracy'])\n",
    "  \n",
    "csv_file = 'training.csv'\n",
    "\n",
    "model.fit(train_batches, \n",
    "          epochs=5, \n",
    "          validation_data=validation_batches, \n",
    "          callbacks=[CSVLogger(csv_file)\n",
    "          ])"
   ]
  },
  {
   "cell_type": "code",
   "execution_count": 17,
   "metadata": {
    "colab": {},
    "colab_type": "code",
    "id": "B9tkYi03QV7R"
   },
   "outputs": [
    {
     "data": {
      "text/html": [
       "<div>\n",
       "<style scoped>\n",
       "    .dataframe tbody tr th:only-of-type {\n",
       "        vertical-align: middle;\n",
       "    }\n",
       "\n",
       "    .dataframe tbody tr th {\n",
       "        vertical-align: top;\n",
       "    }\n",
       "\n",
       "    .dataframe thead th {\n",
       "        text-align: right;\n",
       "    }\n",
       "</style>\n",
       "<table border=\"1\" class=\"dataframe\">\n",
       "  <thead>\n",
       "    <tr style=\"text-align: right;\">\n",
       "      <th></th>\n",
       "      <th>epoch</th>\n",
       "      <th>accuracy</th>\n",
       "      <th>loss</th>\n",
       "      <th>val_accuracy</th>\n",
       "      <th>val_loss</th>\n",
       "    </tr>\n",
       "  </thead>\n",
       "  <tbody>\n",
       "    <tr>\n",
       "      <th>0</th>\n",
       "      <td>0</td>\n",
       "      <td>0.572993</td>\n",
       "      <td>0.673125</td>\n",
       "      <td>0.634146</td>\n",
       "      <td>0.655712</td>\n",
       "    </tr>\n",
       "    <tr>\n",
       "      <th>1</th>\n",
       "      <td>1</td>\n",
       "      <td>0.682482</td>\n",
       "      <td>0.626371</td>\n",
       "      <td>0.795122</td>\n",
       "      <td>0.593967</td>\n",
       "    </tr>\n",
       "    <tr>\n",
       "      <th>2</th>\n",
       "      <td>2</td>\n",
       "      <td>0.755474</td>\n",
       "      <td>0.565982</td>\n",
       "      <td>0.546342</td>\n",
       "      <td>0.642714</td>\n",
       "    </tr>\n",
       "    <tr>\n",
       "      <th>3</th>\n",
       "      <td>3</td>\n",
       "      <td>0.804136</td>\n",
       "      <td>0.480226</td>\n",
       "      <td>0.834146</td>\n",
       "      <td>0.426035</td>\n",
       "    </tr>\n",
       "    <tr>\n",
       "      <th>4</th>\n",
       "      <td>4</td>\n",
       "      <td>0.843066</td>\n",
       "      <td>0.405069</td>\n",
       "      <td>0.492683</td>\n",
       "      <td>0.889206</td>\n",
       "    </tr>\n",
       "  </tbody>\n",
       "</table>\n",
       "</div>"
      ],
      "text/plain": [
       "   epoch  accuracy      loss  val_accuracy  val_loss\n",
       "0      0  0.572993  0.673125      0.634146  0.655712\n",
       "1      1  0.682482  0.626371      0.795122  0.593967\n",
       "2      2  0.755474  0.565982      0.546342  0.642714\n",
       "3      3  0.804136  0.480226      0.834146  0.426035\n",
       "4      4  0.843066  0.405069      0.492683  0.889206"
      ]
     },
     "execution_count": 17,
     "metadata": {},
     "output_type": "execute_result"
    }
   ],
   "source": [
    "pd.read_csv(csv_file).head()"
   ]
  },
  {
   "cell_type": "markdown",
   "metadata": {
    "colab_type": "text",
    "id": "Dt9C2Y9fRBKN"
   },
   "source": [
    "## [Learning Rate Scheduler](https://keras.io/api/callbacks/learning_rate_scheduler/)\n",
    "\n",
    "Updates the learning rate during training."
   ]
  },
  {
   "cell_type": "code",
   "execution_count": 18,
   "metadata": {
    "colab": {},
    "colab_type": "code",
    "id": "aJi-xY2VRC03"
   },
   "outputs": [
    {
     "name": "stdout",
     "output_type": "stream",
     "text": [
      "\n",
      "Epoch 00001: LearningRateScheduler reducing learning rate to 0.005.\n",
      "Epoch 1/5\n",
      "26/26 [==============================] - 29s 1s/step - loss: 0.6784 - accuracy: 0.5535 - val_loss: 0.6792 - val_accuracy: 0.4780\n",
      "\n",
      "Epoch 00002: LearningRateScheduler reducing learning rate to 0.0025.\n",
      "Epoch 2/5\n",
      "26/26 [==============================] - 21s 806ms/step - loss: 0.6610 - accuracy: 0.5827 - val_loss: 0.6653 - val_accuracy: 0.6341\n",
      "\n",
      "Epoch 00003: LearningRateScheduler reducing learning rate to 0.00125.\n",
      "Epoch 3/5\n",
      "26/26 [==============================] - 22s 839ms/step - loss: 0.6515 - accuracy: 0.6642 - val_loss: 0.6657 - val_accuracy: 0.5512\n",
      "\n",
      "Epoch 00004: LearningRateScheduler reducing learning rate to 0.000625.\n",
      "Epoch 4/5\n",
      "26/26 [==============================] - 21s 804ms/step - loss: 0.6463 - accuracy: 0.6423 - val_loss: 0.6625 - val_accuracy: 0.5512\n",
      "\n",
      "Epoch 00005: LearningRateScheduler reducing learning rate to 0.0003125.\n",
      "Epoch 5/5\n",
      "26/26 [==============================] - 21s 811ms/step - loss: 0.6429 - accuracy: 0.6594 - val_loss: 0.6611 - val_accuracy: 0.5610\n"
     ]
    },
    {
     "data": {
      "text/plain": [
       "<tensorflow.python.keras.callbacks.History at 0x7ff378f91b10>"
      ]
     },
     "execution_count": 18,
     "metadata": {},
     "output_type": "execute_result"
    }
   ],
   "source": [
    "model = build_model(dense_units=256)\n",
    "model.compile(\n",
    "    optimizer='sgd',\n",
    "    loss='sparse_categorical_crossentropy', \n",
    "    metrics=['accuracy'])\n",
    "  \n",
    "def step_decay(epoch):\n",
    "\tinitial_lr = 0.01\n",
    "\tdrop = 0.5\n",
    "\tepochs_drop = 1\n",
    "\tlr = initial_lr * math.pow(drop, math.floor((1+epoch)/epochs_drop))\n",
    "\treturn lr\n",
    "\n",
    "model.fit(train_batches, \n",
    "          epochs=5, \n",
    "          validation_data=validation_batches, \n",
    "          callbacks=[LearningRateScheduler(step_decay, verbose=1),\n",
    "                    TensorBoard(log_dir='./log_dir')])"
   ]
  },
  {
   "cell_type": "code",
   "execution_count": 19,
   "metadata": {
    "colab": {},
    "colab_type": "code",
    "id": "M2S4n8nrbV91"
   },
   "outputs": [
    {
     "data": {
      "text/html": [
       "\n",
       "      <iframe id=\"tensorboard-frame-7134258137103624\" width=\"100%\" height=\"800\" frameborder=\"0\">\n",
       "      </iframe>\n",
       "      <script>\n",
       "        (function() {\n",
       "          const frame = document.getElementById(\"tensorboard-frame-7134258137103624\");\n",
       "          const url = new URL(\"/\", window.location);\n",
       "          url.port = 6007;\n",
       "          frame.src = url;\n",
       "        })();\n",
       "      </script>\n",
       "  "
      ],
      "text/plain": [
       "<IPython.core.display.HTML object>"
      ]
     },
     "metadata": {},
     "output_type": "display_data"
    }
   ],
   "source": [
    "%tensorboard --logdir log_dir"
   ]
  },
  {
   "cell_type": "markdown",
   "metadata": {
    "colab_type": "text",
    "id": "y0wcuQyJE_UK"
   },
   "source": [
    "## [ReduceLROnPlateau](https://keras.io/api/callbacks/reduce_lr_on_plateau/)\n",
    "\n",
    "Reduce learning rate when a metric has stopped improving."
   ]
  },
  {
   "cell_type": "code",
   "execution_count": 20,
   "metadata": {
    "colab": {},
    "colab_type": "code",
    "id": "4naxZ-eCFB27"
   },
   "outputs": [
    {
     "name": "stdout",
     "output_type": "stream",
     "text": [
      "Epoch 1/50\n",
      "26/26 [==============================] - 22s 859ms/step - loss: 0.6625 - accuracy: 0.6168 - val_loss: 0.6421 - val_accuracy: 0.6098\n",
      "Epoch 2/50\n",
      "26/26 [==============================] - 21s 811ms/step - loss: 0.6233 - accuracy: 0.6569 - val_loss: 0.5805 - val_accuracy: 0.7463\n",
      "Epoch 3/50\n",
      "26/26 [==============================] - 21s 827ms/step - loss: 0.5777 - accuracy: 0.7117 - val_loss: 0.5610 - val_accuracy: 0.6927\n",
      "Epoch 4/50\n",
      "26/26 [==============================] - 22s 850ms/step - loss: 0.5302 - accuracy: 0.7397 - val_loss: 0.4880 - val_accuracy: 0.7659\n",
      "Epoch 5/50\n",
      "26/26 [==============================] - 21s 811ms/step - loss: 0.4998 - accuracy: 0.7579 - val_loss: 0.4251 - val_accuracy: 0.8829\n",
      "Epoch 6/50\n",
      "26/26 [==============================] - 21s 816ms/step - loss: 0.4171 - accuracy: 0.8236 - val_loss: 0.3376 - val_accuracy: 0.9317\n",
      "Epoch 7/50\n",
      "26/26 [==============================] - 21s 811ms/step - loss: 0.3940 - accuracy: 0.8431 - val_loss: 0.3028 - val_accuracy: 0.9073\n",
      "Epoch 8/50\n",
      "25/26 [===========================>..] - ETA: 0s - loss: 0.3441 - accuracy: 0.8737\n",
      "Epoch 00008: ReduceLROnPlateau reducing learning rate to 0.0019999999552965165.\n",
      "26/26 [==============================] - 21s 819ms/step - loss: 0.3459 - accuracy: 0.8747 - val_loss: 0.3397 - val_accuracy: 0.9707\n",
      "Epoch 9/50\n",
      "26/26 [==============================] - 21s 819ms/step - loss: 0.2982 - accuracy: 0.9440 - val_loss: 0.2539 - val_accuracy: 0.9659\n",
      "Epoch 10/50\n",
      "26/26 [==============================] - 21s 811ms/step - loss: 0.2472 - accuracy: 0.9513 - val_loss: 0.2305 - val_accuracy: 0.9610\n",
      "Epoch 11/50\n",
      "26/26 [==============================] - 21s 819ms/step - loss: 0.2236 - accuracy: 0.9538 - val_loss: 0.2012 - val_accuracy: 0.9707\n",
      "Epoch 12/50\n",
      "26/26 [==============================] - 21s 789ms/step - loss: 0.2107 - accuracy: 0.9501 - val_loss: 0.1854 - val_accuracy: 0.9659\n",
      "Epoch 13/50\n",
      "26/26 [==============================] - 21s 807ms/step - loss: 0.1967 - accuracy: 0.9538 - val_loss: 0.1829 - val_accuracy: 0.9610\n",
      "Epoch 14/50\n",
      "26/26 [==============================] - 21s 811ms/step - loss: 0.1869 - accuracy: 0.9513 - val_loss: 0.1751 - val_accuracy: 0.9610\n",
      "Epoch 15/50\n",
      "25/26 [===========================>..] - ETA: 0s - loss: 0.1795 - accuracy: 0.9575\n",
      "Epoch 00015: ReduceLROnPlateau reducing learning rate to 0.001.\n",
      "26/26 [==============================] - 22s 831ms/step - loss: 0.1786 - accuracy: 0.9586 - val_loss: 0.1752 - val_accuracy: 0.9610\n",
      "Epoch 16/50\n",
      "26/26 [==============================] - 21s 811ms/step - loss: 0.1702 - accuracy: 0.9647 - val_loss: 0.1582 - val_accuracy: 0.9659\n",
      "Epoch 17/50\n",
      "26/26 [==============================] - 22s 831ms/step - loss: 0.1662 - accuracy: 0.9623 - val_loss: 0.1576 - val_accuracy: 0.9610\n",
      "Epoch 18/50\n",
      "25/26 [===========================>..] - ETA: 0s - loss: 0.1628 - accuracy: 0.9650\n",
      "Epoch 00018: ReduceLROnPlateau reducing learning rate to 0.001.\n",
      "26/26 [==============================] - 21s 797ms/step - loss: 0.1615 - accuracy: 0.9647 - val_loss: 0.1594 - val_accuracy: 0.9659\n",
      "Epoch 19/50\n",
      "26/26 [==============================] - 21s 804ms/step - loss: 0.1588 - accuracy: 0.9647 - val_loss: 0.1493 - val_accuracy: 0.9659\n",
      "Epoch 20/50\n",
      "26/26 [==============================] - 21s 800ms/step - loss: 0.1542 - accuracy: 0.9647 - val_loss: 0.1460 - val_accuracy: 0.9659\n",
      "Epoch 21/50\n",
      "26/26 [==============================] - 21s 808ms/step - loss: 0.1519 - accuracy: 0.9672 - val_loss: 0.1418 - val_accuracy: 0.9659\n",
      "Epoch 22/50\n",
      "26/26 [==============================] - 21s 816ms/step - loss: 0.1470 - accuracy: 0.9659 - val_loss: 0.1375 - val_accuracy: 0.9659\n",
      "Epoch 23/50\n",
      "25/26 [===========================>..] - ETA: 0s - loss: 0.1460 - accuracy: 0.9712\n",
      "Epoch 00023: ReduceLROnPlateau reducing learning rate to 0.001.\n",
      "26/26 [==============================] - 21s 804ms/step - loss: 0.1441 - accuracy: 0.9720 - val_loss: 0.1390 - val_accuracy: 0.9659\n",
      "Epoch 24/50\n",
      "26/26 [==============================] - 21s 804ms/step - loss: 0.1393 - accuracy: 0.9684 - val_loss: 0.1370 - val_accuracy: 0.9659\n",
      "Epoch 25/50\n",
      "26/26 [==============================] - 21s 819ms/step - loss: 0.1361 - accuracy: 0.9696 - val_loss: 0.1342 - val_accuracy: 0.9659\n",
      "Epoch 26/50\n",
      "25/26 [===========================>..] - ETA: 0s - loss: 0.1332 - accuracy: 0.9700\n",
      "Epoch 00026: ReduceLROnPlateau reducing learning rate to 0.001.\n",
      "26/26 [==============================] - 23s 873ms/step - loss: 0.1337 - accuracy: 0.9708 - val_loss: 0.1361 - val_accuracy: 0.9610\n",
      "Epoch 27/50\n",
      "26/26 [==============================] - 21s 806ms/step - loss: 0.1312 - accuracy: 0.9684 - val_loss: 0.1276 - val_accuracy: 0.9659\n",
      "Epoch 28/50\n",
      "26/26 [==============================] - 21s 813ms/step - loss: 0.1277 - accuracy: 0.9708 - val_loss: 0.1213 - val_accuracy: 0.9707\n",
      "Epoch 29/50\n",
      "25/26 [===========================>..] - ETA: 0s - loss: 0.1248 - accuracy: 0.9725\n",
      "Epoch 00029: ReduceLROnPlateau reducing learning rate to 0.001.\n",
      "26/26 [==============================] - 21s 812ms/step - loss: 0.1255 - accuracy: 0.9732 - val_loss: 0.1287 - val_accuracy: 0.9659\n",
      "Epoch 30/50\n",
      "26/26 [==============================] - 21s 815ms/step - loss: 0.1228 - accuracy: 0.9720 - val_loss: 0.1196 - val_accuracy: 0.9707\n",
      "Epoch 31/50\n",
      "26/26 [==============================] - 21s 823ms/step - loss: 0.1205 - accuracy: 0.9732 - val_loss: 0.1127 - val_accuracy: 0.9707\n",
      "Epoch 32/50\n",
      "25/26 [===========================>..] - ETA: 0s - loss: 0.1178 - accuracy: 0.9762\n",
      "Epoch 00032: ReduceLROnPlateau reducing learning rate to 0.001.\n",
      "26/26 [==============================] - 21s 816ms/step - loss: 0.1165 - accuracy: 0.9769 - val_loss: 0.1157 - val_accuracy: 0.9707\n",
      "Epoch 33/50\n",
      "25/26 [===========================>..] - ETA: 0s - loss: 0.1147 - accuracy: 0.9725\n",
      "Epoch 00033: ReduceLROnPlateau reducing learning rate to 0.001.\n",
      "26/26 [==============================] - 21s 808ms/step - loss: 0.1138 - accuracy: 0.9732 - val_loss: 0.1185 - val_accuracy: 0.9659\n",
      "Epoch 34/50\n",
      "26/26 [==============================] - 21s 819ms/step - loss: 0.1116 - accuracy: 0.9757 - val_loss: 0.1086 - val_accuracy: 0.9756\n",
      "Epoch 35/50\n",
      "26/26 [==============================] - 21s 807ms/step - loss: 0.1105 - accuracy: 0.9745 - val_loss: 0.1077 - val_accuracy: 0.9756\n",
      "Epoch 36/50\n",
      "25/26 [===========================>..] - ETA: 0s - loss: 0.1067 - accuracy: 0.9762\n",
      "Epoch 00036: ReduceLROnPlateau reducing learning rate to 0.001.\n",
      "26/26 [==============================] - 21s 811ms/step - loss: 0.1072 - accuracy: 0.9757 - val_loss: 0.1094 - val_accuracy: 0.9707\n",
      "Epoch 37/50\n",
      "25/26 [===========================>..] - ETA: 0s - loss: 0.1071 - accuracy: 0.9737\n",
      "Epoch 00037: ReduceLROnPlateau reducing learning rate to 0.001.\n",
      "26/26 [==============================] - 21s 816ms/step - loss: 0.1053 - accuracy: 0.9745 - val_loss: 0.1137 - val_accuracy: 0.9659\n",
      "Epoch 38/50\n",
      "26/26 [==============================] - 21s 808ms/step - loss: 0.1047 - accuracy: 0.9769 - val_loss: 0.1068 - val_accuracy: 0.9707\n",
      "Epoch 39/50\n",
      "26/26 [==============================] - 21s 804ms/step - loss: 0.1012 - accuracy: 0.9757 - val_loss: 0.1008 - val_accuracy: 0.9756\n",
      "Epoch 40/50\n",
      "26/26 [==============================] - 21s 804ms/step - loss: 0.0978 - accuracy: 0.9769 - val_loss: 0.0988 - val_accuracy: 0.9756\n",
      "Epoch 41/50\n",
      "25/26 [===========================>..] - ETA: 0s - loss: 0.0988 - accuracy: 0.9762\n",
      "Epoch 00041: ReduceLROnPlateau reducing learning rate to 0.001.\n",
      "26/26 [==============================] - 21s 823ms/step - loss: 0.0964 - accuracy: 0.9769 - val_loss: 0.1035 - val_accuracy: 0.9659\n",
      "Epoch 42/50\n",
      "26/26 [==============================] - 21s 812ms/step - loss: 0.0944 - accuracy: 0.9805 - val_loss: 0.0957 - val_accuracy: 0.9756\n",
      "Epoch 43/50\n",
      "25/26 [===========================>..] - ETA: 0s - loss: 0.0921 - accuracy: 0.9812\n",
      "Epoch 00043: ReduceLROnPlateau reducing learning rate to 0.001.\n",
      "26/26 [==============================] - 22s 831ms/step - loss: 0.0930 - accuracy: 0.9805 - val_loss: 0.1050 - val_accuracy: 0.9659\n",
      "Epoch 44/50\n",
      "26/26 [==============================] - 21s 819ms/step - loss: 0.0932 - accuracy: 0.9818 - val_loss: 0.0923 - val_accuracy: 0.9756\n",
      "Epoch 45/50\n",
      "25/26 [===========================>..] - ETA: 0s - loss: 0.0912 - accuracy: 0.9787\n",
      "Epoch 00045: ReduceLROnPlateau reducing learning rate to 0.001.\n",
      "26/26 [==============================] - 21s 815ms/step - loss: 0.0900 - accuracy: 0.9793 - val_loss: 0.0934 - val_accuracy: 0.9756\n",
      "Epoch 46/50\n",
      "26/26 [==============================] - 21s 815ms/step - loss: 0.0888 - accuracy: 0.9793 - val_loss: 0.0913 - val_accuracy: 0.9756\n",
      "Epoch 47/50\n",
      "26/26 [==============================] - 21s 811ms/step - loss: 0.0866 - accuracy: 0.9793 - val_loss: 0.0904 - val_accuracy: 0.9756\n",
      "Epoch 48/50\n",
      "26/26 [==============================] - 21s 812ms/step - loss: 0.0839 - accuracy: 0.9830 - val_loss: 0.0878 - val_accuracy: 0.9756\n",
      "Epoch 49/50\n",
      "26/26 [==============================] - 21s 815ms/step - loss: 0.0837 - accuracy: 0.9805 - val_loss: 0.0868 - val_accuracy: 0.9756\n",
      "Epoch 50/50\n",
      "26/26 [==============================] - 21s 800ms/step - loss: 0.0817 - accuracy: 0.9805 - val_loss: 0.0852 - val_accuracy: 0.9756\n"
     ]
    },
    {
     "data": {
      "text/plain": [
       "<tensorflow.python.keras.callbacks.History at 0x7ff2b8510050>"
      ]
     },
     "execution_count": 20,
     "metadata": {},
     "output_type": "execute_result"
    }
   ],
   "source": [
    "model = build_model(dense_units=256)\n",
    "model.compile(\n",
    "    optimizer='sgd',\n",
    "    loss='sparse_categorical_crossentropy', \n",
    "    metrics=['accuracy'])\n",
    "  \n",
    "model.fit(train_batches, \n",
    "          epochs=50, \n",
    "          validation_data=validation_batches, \n",
    "          callbacks=[ReduceLROnPlateau(monitor='val_loss', \n",
    "                                       factor=0.2, verbose=1,\n",
    "                                       patience=1, min_lr=0.001),\n",
    "                     TensorBoard(log_dir='./log_dir')])"
   ]
  },
  {
   "cell_type": "code",
   "execution_count": 21,
   "metadata": {
    "colab": {},
    "colab_type": "code",
    "id": "isfTWP4NYudk"
   },
   "outputs": [
    {
     "data": {
      "text/plain": [
       "Reusing TensorBoard on port 6007 (pid 4252), started 0:17:41 ago. (Use '!kill 4252' to kill it.)"
      ]
     },
     "metadata": {},
     "output_type": "display_data"
    },
    {
     "data": {
      "text/html": [
       "\n",
       "      <iframe id=\"tensorboard-frame-e4ff39eabe3f250e\" width=\"100%\" height=\"800\" frameborder=\"0\">\n",
       "      </iframe>\n",
       "      <script>\n",
       "        (function() {\n",
       "          const frame = document.getElementById(\"tensorboard-frame-e4ff39eabe3f250e\");\n",
       "          const url = new URL(\"/\", window.location);\n",
       "          url.port = 6007;\n",
       "          frame.src = url;\n",
       "        })();\n",
       "      </script>\n",
       "  "
      ],
      "text/plain": [
       "<IPython.core.display.HTML object>"
      ]
     },
     "metadata": {},
     "output_type": "display_data"
    }
   ],
   "source": [
    "%tensorboard --logdir log_dir"
   ]
  }
 ],
 "metadata": {
  "colab": {
   "collapsed_sections": [],
   "include_colab_link": true,
   "name": "ExploringCallbacks.ipynb",
   "provenance": []
  },
  "kernelspec": {
   "display_name": "Python 3",
   "language": "python",
   "name": "python3"
  },
  "language_info": {
   "codemirror_mode": {
    "name": "ipython",
    "version": 3
   },
   "file_extension": ".py",
   "mimetype": "text/x-python",
   "name": "python",
   "nbconvert_exporter": "python",
   "pygments_lexer": "ipython3",
   "version": "3.7.6"
  }
 },
 "nbformat": 4,
 "nbformat_minor": 4
}
