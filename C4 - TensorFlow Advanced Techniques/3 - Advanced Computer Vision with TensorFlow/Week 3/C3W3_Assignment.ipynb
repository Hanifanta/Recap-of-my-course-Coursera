{
  "cells": [
    {
      "cell_type": "markdown",
      "metadata": {
        "id": "k6x_sGPQocpw"
      },
      "source": [
        "# Week 3 Assignment: Image Segmentation of Handwritten Digits\n",
        "\n",
        "<img src='https://drive.google.com/uc?export=view&id=1-WBX7w_R9abwdGmAUBFWWEcJ0LkMppq2' alt='m2nist digits'>\n",
        "\n",
        "In this week's assignment, you will build a model that predicts the segmentation masks (pixel-wise label map) of handwritten digits. This model will be trained on the [M2NIST dataset](https://www.kaggle.com/farhanhubble/multimnistm2nist), a multi digit MNIST. If you've done the ungraded lab on the CamVid dataset, then many of the steps here will look familiar.\n",
        "\n",
        "You will build a Convolutional Neural Network (CNN) from scratch for the downsampling path and use a Fully Convolutional Network, FCN-8, to upsample and produce the pixel-wise label map. The model will be evaluated using the intersection over union (IOU) and Dice Score. Finally, you will download the model and upload it to the grader in Coursera to get your score for the assignment."
      ]
    },
    {
      "cell_type": "markdown",
      "metadata": {
        "id": "cnr0kbM0g2LD"
      },
      "source": [
        "## Exercises\n",
        "\n",
        "We've given you some boilerplate code to work with and these are the 5 exercises you need to fill out before you can successfully get the segmentation masks.\n",
        "\n",
        "* [Exercise 1 - Define the Basic Convolution Block](#exercise-1)\n",
        "* [Exercise 2 - Define the Downsampling Path](#exercise-2)\n",
        "* [Exercise 3 - Define the FCN-8 decoder](#exercise-3)\n",
        "* [Exercise 4 - Compile the Model](#exercise-4)\n",
        "* [Exercise 5 - Model Training](#exercise-5)"
      ]
    },
    {
      "cell_type": "markdown",
      "metadata": {
        "id": "MZ3g9dJxSxmN"
      },
      "source": [
        "## Imports\n",
        "\n",
        "As usual, let's start by importing the packages you will use in this lab."
      ]
    },
    {
      "cell_type": "code",
      "execution_count": null,
      "metadata": {
        "id": "jnO7pZHAkARZ"
      },
      "outputs": [],
      "source": [
        "# Install packages for compatibility with the autograder\n",
        "\n",
        "# NOTE: You can safely ignore errors about version incompatibility of\n",
        "# Colab-bundled packages (e.g. xarray, pydantic, etc.)\n",
        "\n",
        "!pip install tensorflow==2.8.0 --quiet\n",
        "!pip install keras==2.8.0 --quiet"
      ]
    },
    {
      "cell_type": "code",
      "execution_count": 2,
      "metadata": {
        "id": "aifz2907kxYN",
        "colab": {
          "base_uri": "https://localhost:8080/"
        },
        "outputId": "098d4d27-28b9-47f6-d3d7-223aa927766c"
      },
      "outputs": [
        {
          "output_type": "stream",
          "name": "stdout",
          "text": [
            "Colab only includes TensorFlow 2.x; %tensorflow_version has no effect.\n",
            "Tensorflow version 2.8.0\n"
          ]
        }
      ],
      "source": [
        "try:\n",
        "    # %tensorflow_version only exists in Colab.\n",
        "    %tensorflow_version 2.x\n",
        "except Exception:\n",
        "    pass\n",
        "\n",
        "import os\n",
        "import zipfile\n",
        "\n",
        "import PIL.Image, PIL.ImageFont, PIL.ImageDraw\n",
        "import numpy as np\n",
        "from matplotlib import pyplot as plt\n",
        "\n",
        "import tensorflow as tf\n",
        "import tensorflow_datasets as tfds\n",
        "from sklearn.model_selection import train_test_split\n",
        "\n",
        "print(\"Tensorflow version \" + tf.__version__)"
      ]
    },
    {
      "cell_type": "markdown",
      "metadata": {
        "id": "7RYh6cCzXE6R"
      },
      "source": [
        "## Download the dataset"
      ]
    },
    {
      "cell_type": "markdown",
      "metadata": {
        "id": "QUGGF3wfqYni"
      },
      "source": [
        "[M2NIST](https://www.kaggle.com/farhanhubble/multimnistm2nist) is a **multi digit** [MNIST](http://yann.lecun.com/exdb/mnist/).\n",
        "Each image has up to 3 digits from MNIST digits and the corresponding labels file has the segmentation masks.\n",
        "\n",
        "The dataset is available on [Kaggle](https://www.kaggle.com) and you can find it [here](https://www.kaggle.com/farhanhubble/multimnistm2nist)\n",
        "\n",
        "To make it easier for you, we're hosting it on Google Cloud so you can download without Kaggle credentials.\n"
      ]
    },
    {
      "cell_type": "code",
      "execution_count": 3,
      "metadata": {
        "id": "ROok0i9rMcu0",
        "colab": {
          "base_uri": "https://localhost:8080/"
        },
        "outputId": "49084179-3af9-4eb1-a640-eec3fa0cd1de"
      },
      "outputs": [
        {
          "output_type": "stream",
          "name": "stdout",
          "text": [
            "--2023-06-19 18:30:27--  https://storage.googleapis.com/tensorflow-1-public/tensorflow-3-temp/m2nist.zip\n",
            "Resolving storage.googleapis.com (storage.googleapis.com)... 142.250.148.128, 209.85.200.128, 209.85.234.128, ...\n",
            "Connecting to storage.googleapis.com (storage.googleapis.com)|142.250.148.128|:443... connected.\n",
            "HTTP request sent, awaiting response... 200 OK\n",
            "Length: 17378168 (17M) [application/zip]\n",
            "Saving to: ‘/tmp/m2nist.zip’\n",
            "\n",
            "/tmp/m2nist.zip     100%[===================>]  16.57M  84.8MB/s    in 0.2s    \n",
            "\n",
            "2023-06-19 18:30:27 (84.8 MB/s) - ‘/tmp/m2nist.zip’ saved [17378168/17378168]\n",
            "\n"
          ]
        }
      ],
      "source": [
        "# download zipped dataset\n",
        "!wget --no-check-certificate \\\n",
        "    https://storage.googleapis.com/tensorflow-1-public/tensorflow-3-temp/m2nist.zip \\\n",
        "    -O /tmp/m2nist.zip\n",
        "\n",
        "# find and extract to a local folder ('/tmp/training')\n",
        "local_zip = '/tmp/m2nist.zip'\n",
        "zip_ref = zipfile.ZipFile(local_zip, 'r')\n",
        "zip_ref.extractall('/tmp/training')\n",
        "zip_ref.close()"
      ]
    },
    {
      "cell_type": "markdown",
      "metadata": {
        "id": "xy17LYR7XJNa"
      },
      "source": [
        "## Load and Preprocess the Dataset"
      ]
    },
    {
      "cell_type": "markdown",
      "metadata": {
        "id": "LXGMrWnkrvpK"
      },
      "source": [
        "This dataset can be easily preprocessed since it is available as **Numpy Array Files (.npy)**\n",
        "\n",
        "1. **combined.npy** has the image files containing the multiple MNIST digits. Each image is of size **64 x 84** (height x width, in pixels).\n",
        "\n",
        "2. **segmented.npy** has the corresponding segmentation masks. Each segmentation mask is also of size **64 x 84**.\n",
        "\n",
        "This dataset has **5000** samples and you can make appropriate training, validation, and test splits as required for the problem.\n",
        "\n",
        "With that, let's define a few utility functions for loading and preprocessing the dataset."
      ]
    },
    {
      "cell_type": "code",
      "execution_count": 4,
      "metadata": {
        "id": "Jy_pw5I2-xLP"
      },
      "outputs": [],
      "source": [
        "BATCH_SIZE = 32\n",
        "\n",
        "def read_image_and_annotation(image, annotation):\n",
        "    '''\n",
        "    Casts the image and annotation to their expected data type and\n",
        "    normalizes the input image so that each pixel is in the range [-1, 1]\n",
        "\n",
        "    Args:\n",
        "        image (numpy array) -- input image\n",
        "        annotation (numpy array) -- ground truth label map\n",
        "\n",
        "    Returns:\n",
        "        preprocessed image-annotation pair\n",
        "    '''\n",
        "\n",
        "    image = tf.cast(image, dtype=tf.float32)\n",
        "    image = tf.reshape(image, (image.shape[0], image.shape[1], 1,))\n",
        "    annotation = tf.cast(annotation, dtype=tf.int32)\n",
        "    image = image / 127.5\n",
        "    image -= 1\n",
        "\n",
        "    return image, annotation\n",
        "\n",
        "\n",
        "def get_training_dataset(images, annos):\n",
        "    ''' Prepares shuffled batches of the training set.\n",
        "\n",
        "    Args:\n",
        "        images (list of strings) -- paths to each image file in the train set\n",
        "        annos (list of strings) -- paths to each label map in the train set\n",
        "\n",
        "    Returns:\n",
        "        tf Dataset containing the preprocessed train set\n",
        "    '''\n",
        "    training_dataset = tf.data.Dataset.from_tensor_slices((images, annos))\n",
        "    training_dataset = training_dataset.map(read_image_and_annotation)\n",
        "\n",
        "    training_dataset = training_dataset.shuffle(512, reshuffle_each_iteration=True)\n",
        "    training_dataset = training_dataset.batch(BATCH_SIZE)\n",
        "    training_dataset = training_dataset.repeat()\n",
        "    training_dataset = training_dataset.prefetch(-1)\n",
        "\n",
        "    return training_dataset\n",
        "\n",
        "\n",
        "def get_validation_dataset(images, annos):\n",
        "    ''' Prepares batches of the validation set.\n",
        "\n",
        "    Args:\n",
        "        images (list of strings) -- paths to each image file in the val set\n",
        "        annos (list of strings) -- paths to each label map in the val set\n",
        "\n",
        "    Returns:\n",
        "        tf Dataset containing the preprocessed validation set\n",
        "    '''\n",
        "    validation_dataset = tf.data.Dataset.from_tensor_slices((images, annos))\n",
        "    validation_dataset = validation_dataset.map(read_image_and_annotation)\n",
        "    validation_dataset = validation_dataset.batch(BATCH_SIZE)\n",
        "    validation_dataset = validation_dataset.repeat()\n",
        "\n",
        "    return validation_dataset\n",
        "\n",
        "\n",
        "def get_test_dataset(images, annos):\n",
        "    ''' Prepares batches of the test set.\n",
        "\n",
        "    Args:\n",
        "        images (list of strings) -- paths to each image file in the test set\n",
        "        annos (list of strings) -- paths to each label map in the test set\n",
        "\n",
        "    Returns:\n",
        "        tf Dataset containing the preprocessed validation set\n",
        "    '''\n",
        "    test_dataset = tf.data.Dataset.from_tensor_slices((images, annos))\n",
        "    test_dataset = test_dataset.map(read_image_and_annotation)\n",
        "    test_dataset = test_dataset.batch(BATCH_SIZE, drop_remainder=True)\n",
        "\n",
        "    return test_dataset\n",
        "\n",
        "\n",
        "def load_images_and_segments():\n",
        "    '''\n",
        "    Loads the images and segments as numpy arrays from npy files\n",
        "    and makes splits for training, validation and test datasets.\n",
        "\n",
        "    Returns:\n",
        "        3 tuples containing the train, val, and test splits\n",
        "    '''\n",
        "\n",
        "    #Loads images and segmentation masks.\n",
        "    images = np.load('/tmp/training/combined.npy')\n",
        "    segments = np.load('/tmp/training/segmented.npy')\n",
        "\n",
        "    #Makes training, validation, test splits from loaded images and segmentation masks.\n",
        "    train_images, val_images, train_annos, val_annos = train_test_split(images, segments, test_size=0.2, shuffle=True)\n",
        "    val_images, test_images, val_annos, test_annos = train_test_split(val_images, val_annos, test_size=0.2, shuffle=True)\n",
        "\n",
        "    return (train_images, train_annos), (val_images, val_annos), (test_images, test_annos)\n"
      ]
    },
    {
      "cell_type": "markdown",
      "metadata": {
        "id": "iPHO1YbTACcu"
      },
      "source": [
        "You can now load the preprocessed dataset and define the training, validation, and test sets."
      ]
    },
    {
      "cell_type": "code",
      "execution_count": 5,
      "metadata": {
        "id": "hIS70_um_Y7n",
        "lines_to_next_cell": 2
      },
      "outputs": [],
      "source": [
        "# Load Dataset\n",
        "train_slices, val_slices, test_slices = load_images_and_segments()\n",
        "\n",
        "# Create training, validation, test datasets.\n",
        "training_dataset = get_training_dataset(train_slices[0], train_slices[1])\n",
        "validation_dataset = get_validation_dataset(val_slices[0], val_slices[1])\n",
        "test_dataset = get_test_dataset(test_slices[0], test_slices[1])"
      ]
    },
    {
      "cell_type": "markdown",
      "metadata": {
        "id": "oKXJYZi7A0dF"
      },
      "source": [
        "## Let's Take a Look at the Dataset\n",
        "\n",
        "You may want to visually inspect the dataset before and after training. Like above, we've included utility functions to help show a few images as well as their annotations (i.e. labels)."
      ]
    },
    {
      "cell_type": "code",
      "execution_count": 6,
      "metadata": {
        "cellView": "both",
        "id": "d46YCbvPafbp"
      },
      "outputs": [],
      "source": [
        "# Visualization Utilities\n",
        "\n",
        "# there are 11 classes in the dataset: one class for each digit (0 to 9) plus the background class\n",
        "n_classes = 11\n",
        "\n",
        "# assign a random color for each class\n",
        "colors = [tuple(np.random.randint(256, size=3) / 255.0) for i in range(n_classes)]\n",
        "\n",
        "def fuse_with_pil(images):\n",
        "    ''' Creates a blank image and pastes input images\n",
        "\n",
        "    Args:\n",
        "        images (list of numpy arrays) - numpy array representations of the images to paste\n",
        "\n",
        "    Returns:\n",
        "        PIL Image object containing the images\n",
        "    '''\n",
        "\n",
        "    widths = (image.shape[1] for image in images)\n",
        "    heights = (image.shape[0] for image in images)\n",
        "    total_width = sum(widths)\n",
        "    max_height = max(heights)\n",
        "\n",
        "    new_im = PIL.Image.new('RGB', (total_width, max_height))\n",
        "\n",
        "    x_offset = 0\n",
        "    for im in images:\n",
        "        pil_image = PIL.Image.fromarray(np.uint8(im))\n",
        "        new_im.paste(pil_image, (x_offset, 0))\n",
        "        x_offset += im.shape[1]\n",
        "\n",
        "    return new_im\n",
        "\n",
        "\n",
        "def give_color_to_annotation(annotation):\n",
        "    '''\n",
        "    Converts a 2-D annotation to a numpy array with shape (height, width, 3) where\n",
        "    the third axis represents the color channel. The label values are multiplied by\n",
        "    255 and placed in this axis to give color to the annotation\n",
        "\n",
        "    Args:\n",
        "        annotation (numpy array) - label map array\n",
        "\n",
        "    Returns:\n",
        "        the annotation array with an additional color channel/axis\n",
        "    '''\n",
        "    seg_img = np.zeros( (annotation.shape[0], annotation.shape[1], 3) ).astype('float')\n",
        "\n",
        "    for c in range(n_classes):\n",
        "        segc = (annotation == c)\n",
        "        seg_img[:,:,0] += segc*( colors[c][0] * 255.0)\n",
        "        seg_img[:,:,1] += segc*( colors[c][1] * 255.0)\n",
        "        seg_img[:,:,2] += segc*( colors[c][2] * 255.0)\n",
        "\n",
        "    return seg_img\n",
        "\n",
        "\n",
        "def show_annotation_and_prediction(image, annotation, prediction, iou_list, dice_score_list):\n",
        "    '''\n",
        "    Displays the images with the ground truth and predicted label maps.\n",
        "    Also overlays the metrics.\n",
        "\n",
        "    Args:\n",
        "        image (numpy array) -- the input image\n",
        "        annotation (numpy array) -- the ground truth label map\n",
        "        prediction (numpy array) -- the predicted label map\n",
        "        iou_list (list of floats) -- the IOU values for each class\n",
        "        dice_score_list (list of floats) -- the Dice Score for each class\n",
        "    '''\n",
        "\n",
        "    new_ann = np.argmax(annotation, axis=2)\n",
        "    true_img = give_color_to_annotation(new_ann)\n",
        "    pred_img = give_color_to_annotation(prediction)\n",
        "\n",
        "    image = image + 1\n",
        "    image = image * 127.5\n",
        "    image = np.reshape(image, (image.shape[0], image.shape[1],))\n",
        "    image = np.uint8(image)\n",
        "    images = [image, np.uint8(pred_img), np.uint8(true_img)]\n",
        "\n",
        "    metrics_by_id = [(idx, iou, dice_score) for idx, (iou, dice_score) in enumerate(zip(iou_list, dice_score_list)) if iou > 0.0 and idx < 10]\n",
        "    metrics_by_id.sort(key=lambda tup: tup[1], reverse=True)  # sorts in place\n",
        "\n",
        "    display_string_list = [\"{}: IOU: {} Dice Score: {}\".format(idx, iou, dice_score) for idx, iou, dice_score in metrics_by_id]\n",
        "    display_string = \"\\n\".join(display_string_list)\n",
        "\n",
        "    plt.figure(figsize=(15, 4))\n",
        "\n",
        "    for idx, im in enumerate(images):\n",
        "        plt.subplot(1, 3, idx+1)\n",
        "        if idx == 1:\n",
        "            plt.xlabel(display_string)\n",
        "        plt.xticks([])\n",
        "        plt.yticks([])\n",
        "        plt.imshow(im)\n",
        "\n",
        "\n",
        "def show_annotation_and_image(image, annotation):\n",
        "    ''' Displays the image and its annotation side by side\n",
        "\n",
        "    Args:\n",
        "        image (numpy array) -- the input image\n",
        "        annotation (numpy array) -- the label map\n",
        "    '''\n",
        "    new_ann = np.argmax(annotation, axis=2)\n",
        "    seg_img = give_color_to_annotation(new_ann)\n",
        "\n",
        "    image = image + 1\n",
        "    image = image * 127.5\n",
        "    image = np.reshape(image, (image.shape[0], image.shape[1],))\n",
        "\n",
        "    image = np.uint8(image)\n",
        "    images = [image, seg_img]\n",
        "\n",
        "    images = [image, seg_img]\n",
        "    fused_img = fuse_with_pil(images)\n",
        "    plt.imshow(fused_img)\n",
        "\n",
        "\n",
        "def list_show_annotation(dataset, num_images):\n",
        "    ''' Displays images and its annotations side by side\n",
        "\n",
        "    Args:\n",
        "        dataset (tf Dataset) -- batch of images and annotations\n",
        "        num_images (int) -- number of images to display\n",
        "    '''\n",
        "    ds = dataset.unbatch()\n",
        "\n",
        "    plt.figure(figsize=(20, 15))\n",
        "    plt.title(\"Images And Annotations\")\n",
        "    plt.subplots_adjust(bottom=0.1, top=0.9, hspace=0.05)\n",
        "\n",
        "    for idx, (image, annotation) in enumerate(ds.take(num_images)):\n",
        "        plt.subplot(5, 5, idx + 1)\n",
        "        plt.yticks([])\n",
        "        plt.xticks([])\n",
        "        show_annotation_and_image(image.numpy(), annotation.numpy())\n"
      ]
    },
    {
      "cell_type": "markdown",
      "metadata": {
        "id": "hEfyChmKEFKe"
      },
      "source": [
        "You can view a subset of the images from the dataset with the `list_show_annotation()` function defined above. Run the cells below to see the image on the left and its pixel-wise ground truth label map on the right."
      ]
    },
    {
      "cell_type": "code",
      "execution_count": 7,
      "metadata": {
        "id": "AFO_hIhLWYT4",
        "colab": {
          "base_uri": "https://localhost:8080/",
          "height": 360
        },
        "outputId": "12f8f938-2395-4c58-900b-77fe9f1a67d9"
      },
      "outputs": [
        {
          "output_type": "stream",
          "name": "stderr",
          "text": [
            "<ipython-input-6-c6ebf8f2ff06>:134: MatplotlibDeprecationWarning: Auto-removal of overlapping axes is deprecated since 3.6 and will be removed two minor releases later; explicitly call ax.remove() as needed.\n",
            "  plt.subplot(5, 5, idx + 1)\n"
          ]
        },
        {
          "output_type": "display_data",
          "data": {
            "text/plain": [
              "<Figure size 2000x1500 with 10 Axes>"
            ],
            "image/png": "[encoded data removed]"
          },
          "metadata": {}
        }
      ],
      "source": [
        "# get 10 images from the training set\n",
        "list_show_annotation(training_dataset, 10)"
      ]
    },
    {
      "cell_type": "code",
      "execution_count": 8,
      "metadata": {
        "id": "bdgVkp8wZua0",
        "colab": {
          "base_uri": "https://localhost:8080/",
          "height": 360
        },
        "outputId": "c0243858-4a2f-41ea-cb79-64209c8b6682"
      },
      "outputs": [
        {
          "output_type": "stream",
          "name": "stderr",
          "text": [
            "<ipython-input-6-c6ebf8f2ff06>:134: MatplotlibDeprecationWarning: Auto-removal of overlapping axes is deprecated since 3.6 and will be removed two minor releases later; explicitly call ax.remove() as needed.\n",
            "  plt.subplot(5, 5, idx + 1)\n"
          ]
        },
        {
          "output_type": "display_data",
          "data": {
            "text/plain": [
              "<Figure size 2000x1500 with 10 Axes>"
            ],
            "image/png": "[encoded data removed]"
          },
          "metadata": {}
        }
      ],
      "source": [
        "# get 10 images from the validation set\n",
        "list_show_annotation(validation_dataset, 10)"
      ]
    },
    {
      "cell_type": "markdown",
      "metadata": {
        "id": "KkpgIcE2FeKI"
      },
      "source": [
        "You see from the images above the colors assigned to each class (i.e 0 to 9 plus the background). If you don't like these colors, feel free to rerun the cell where `colors` is defined to get another set of random colors. Alternatively, you can assign the RGB values for each class instead of relying on random values."
      ]
    },
    {
      "cell_type": "markdown",
      "metadata": {
        "id": "QFv2k8xabRb8"
      },
      "source": [
        "## Define the Model"
      ]
    },
    {
      "cell_type": "markdown",
      "metadata": {
        "id": "Q_ylpyqJDQiF"
      },
      "source": [
        "As discussed in the lectures, the image segmentation model will have two paths:\n",
        "\n",
        "1. **Downsampling Path** - This part of the network extracts the features in the image. This is done through a series of convolution and pooling layers. The final output is a reduced image (because of the pooling layers) with the extracted features. You will build a custom CNN from scratch for this path.\n",
        "\n",
        "2. **Upsampling Path** - This takes the output of the downsampling path and generates the predictions while also converting the image back to its original size. You will use an FCN-8 decoder for this path."
      ]
    },
    {
      "cell_type": "markdown",
      "metadata": {
        "id": "BHlBUZvsDybt"
      },
      "source": [
        "### Define the Basic Convolution Block"
      ]
    },
    {
      "cell_type": "markdown",
      "metadata": {
        "id": "T-XO9xkN1OR3"
      },
      "source": [
        "<a name='exercise-1'></a>\n",
        "\n",
        "#### **Exercise 1**\n",
        "\n",
        "Please complete the function below to build the basic convolution block for our CNN. This will have two [Conv2D](https://keras.io/api/layers/convolution_layers/convolution2d/) layers each followed by a [LeakyReLU](https://keras.io/api/layers/activation_layers/leaky_relu/), then [max pooled](https://keras.io/api/layers/pooling_layers/max_pooling2d/) and [batch-normalized](https://keras.io/api/layers/normalization_layers/batch_normalization/). Use the functional syntax to stack these layers.\n",
        "\n",
        "$$Input -> Conv2D -> LeakyReLU -> Conv2D -> LeakyReLU -> MaxPooling2D -> BatchNormalization$$\n",
        "\n",
        "When defining the Conv2D layers, note that our data inputs will have the 'channels' dimension last. You may want to check the `data_format` argument in the [docs](https://keras.io/api/layers/convolution_layers/convolution2d/) regarding this. Take note of the `padding` argument too like you did in the ungraded labs.\n",
        "\n",
        "Lastly, to use the `LeakyReLU` activation, you **do not** need to nest it inside an `Activation` layer (e.g. `x = tf.keras.layers.Activation(tf.keras.layers.LeakyReLU()(x)`). You can simply stack the layer directly instead (e.g. `x = tf.keras.layers.LeakyReLU()(x)`)"
      ]
    },
    {
      "cell_type": "code",
      "execution_count": 9,
      "metadata": {
        "id": "azEEVytHR0Kn"
      },
      "outputs": [],
      "source": [
        "# parameter describing where the channel dimension is found in our dataset\n",
        "IMAGE_ORDERING = 'channels_last'\n",
        "\n",
        "def conv_block(input, filters, kernel_size, pooling_size, pool_strides):\n",
        "    '''\n",
        "    Args:\n",
        "        input (tensor) -- batch of images or features\n",
        "        filters (int) -- number of filters of the Conv2D layers\n",
        "        kernel_size (int) -- kernel_size setting of the Conv2D layers\n",
        "        pooling_size (int) -- pooling size of the MaxPooling2D layers\n",
        "        pool_strides (int) -- strides setting of the MaxPooling2D layers\n",
        "\n",
        "    Returns:\n",
        "        (tensor) max pooled and batch-normalized features of the input\n",
        "    '''\n",
        "    ### START CODE HERE ###\n",
        "    # use the functional syntax to stack the layers as shown in the diagram above\n",
        "    x = tf.keras.layers.Conv2D(filters,\n",
        "                               kernel_size,\n",
        "                               padding='same',\n",
        "                               data_format=IMAGE_ORDERING)(input)\n",
        "    x = tf.keras.layers.LeakyReLU()(x)\n",
        "    x = tf.keras.layers.Conv2D(filters,\n",
        "                               kernel_size,\n",
        "                               padding='same',\n",
        "                               data_format=IMAGE_ORDERING)(x)\n",
        "    x = tf.keras.layers.LeakyReLU()(x)\n",
        "    x = tf.keras.layers.MaxPool2D(pooling_size,\n",
        "                                  pool_strides,\n",
        "                                  data_format=IMAGE_ORDERING)(x)\n",
        "    x = tf.keras.layers.BatchNormalization()(x)\n",
        "    ### END CODE HERE ###\n",
        "\n",
        "    return x"
      ]
    },
    {
      "cell_type": "code",
      "execution_count": 10,
      "metadata": {
        "id": "uGtlHuM6KCRg",
        "colab": {
          "base_uri": "https://localhost:8080/"
        },
        "outputId": "31deff69-6a5b-4d05-a38c-7554f285b08a"
      },
      "outputs": [
        {
          "output_type": "stream",
          "name": "stdout",
          "text": [
            "Model: \"model\"\n",
            "_________________________________________________________________\n",
            " Layer (type)                Output Shape              Param #   \n",
            "=================================================================\n",
            " input_1 (InputLayer)        [(None, 64, 84, 1)]       0         \n",
            "                                                                 \n",
            " conv2d (Conv2D)             (None, 64, 84, 32)        320       \n",
            "                                                                 \n",
            " leaky_re_lu (LeakyReLU)     (None, 64, 84, 32)        0         \n",
            "                                                                 \n",
            " conv2d_1 (Conv2D)           (None, 64, 84, 32)        9248      \n",
            "                                                                 \n",
            " leaky_re_lu_1 (LeakyReLU)   (None, 64, 84, 32)        0         \n",
            "                                                                 \n",
            " max_pooling2d (MaxPooling2D  (None, 32, 42, 32)       0         \n",
            " )                                                               \n",
            "                                                                 \n",
            " batch_normalization (BatchN  (None, 32, 42, 32)       128       \n",
            " ormalization)                                                   \n",
            "                                                                 \n",
            "=================================================================\n",
            "Total params: 9,696\n",
            "Trainable params: 9,632\n",
            "Non-trainable params: 64\n",
            "_________________________________________________________________\n",
            "None\n"
          ]
        }
      ],
      "source": [
        "# TEST CODE:\n",
        "\n",
        "test_input = tf.keras.layers.Input(shape=(64,84, 1))\n",
        "test_output = conv_block(test_input, 32, 3, 2, 2)\n",
        "test_model = tf.keras.Model(inputs=test_input, outputs=test_output)\n",
        "\n",
        "print(test_model.summary())\n",
        "\n",
        "# free up test resources\n",
        "del test_input, test_output, test_model"
      ]
    },
    {
      "cell_type": "markdown",
      "metadata": {
        "id": "Mmf_ZaMP2rV3"
      },
      "source": [
        "**Expected Output**:\n",
        "\n",
        "Please pay attention to the *(type)* and *Output Shape* columns. The *Layer* name beside the type may be different depending on how many times you ran the cell (e.g. `input_7` can be `input_1`)\n",
        "\n",
        "```txt\n",
        "Model: \"functional_1\"\n",
        "_________________________________________________________________\n",
        "Layer (type)                 Output Shape              Param #\n",
        "=================================================================\n",
        "input_1 (InputLayer)         [(None, 64, 84, 1)]       0\n",
        "_________________________________________________________________\n",
        "conv2d (Conv2D)              (None, 64, 84, 32)        320\n",
        "_________________________________________________________________\n",
        "leaky_re_lu (LeakyReLU)      (None, 64, 84, 32)        0\n",
        "_________________________________________________________________\n",
        "conv2d_1 (Conv2D)            (None, 64, 84, 32)        9248\n",
        "_________________________________________________________________\n",
        "leaky_re_lu_1 (LeakyReLU)    (None, 64, 84, 32)        0\n",
        "_________________________________________________________________\n",
        "max_pooling2d (MaxPooling2D) (None, 32, 42, 32)        0\n",
        "_________________________________________________________________\n",
        "batch_normalization (BatchNo (None, 32, 42, 32)        128\n",
        "=================================================================\n",
        "Total params: 9,696\n",
        "Trainable params: 9,632\n",
        "Non-trainable params: 64\n",
        "_________________________________________________________________\n",
        "None\n",
        "```"
      ]
    },
    {
      "cell_type": "markdown",
      "metadata": {
        "id": "4-jJbC91EXTV"
      },
      "source": [
        "### Define the Downsampling Path"
      ]
    },
    {
      "cell_type": "markdown",
      "metadata": {
        "id": "e2ueOTmc3HxJ"
      },
      "source": [
        "<a name='exercise-2'></a>\n",
        "\n",
        "#### **Exercise 2**\n",
        "\n",
        "Now that we've defined the building block of our encoder, you can now build the downsampling path. Please complete the function below to create the encoder. This should chain together five convolution building blocks to create a feature extraction CNN minus the fully connected layers.\n",
        "\n",
        "*Notes*:\n",
        "1. To optimize processing or to make the output dimensions of each layer easier to work with, it is sometimes advisable to apply some zero-padding to the input image. With the boilerplate code we have provided below, we have padded the input width to 96 pixels using the [ZeroPadding2D layer](https://keras.io/api/layers/reshaping_layers/zero_padding2d/). This works well if you're going to use the first ungraded lab of this week as reference. This is not required however. You can remove it later and see how it will affect your parameters. For instance, you might need to pass in a non-square kernel size to the decoder in Exercise 3 (e.g. `(4,5)`) to match the output dimensions of Exercise 2.\n",
        "\n",
        "2. We recommend keeping the pool size and stride parameters constant at 2."
      ]
    },
    {
      "cell_type": "code",
      "execution_count": 11,
      "metadata": {
        "id": "F2VNB99LRwQr"
      },
      "outputs": [],
      "source": [
        "def FCN8(input_height=64, input_width=84):\n",
        "    ''' Defines the downsampling path of the image segmentation model.\n",
        "\n",
        "    Args:\n",
        "      input_height (int) -- height of the images\n",
        "      width (int) -- width of the images\n",
        "\n",
        "    Returns:\n",
        "    (tuple of tensors, tensor)\n",
        "      tuple of tensors -- features extracted at blocks 3 to 5\n",
        "      tensor -- copy of the input\n",
        "    '''\n",
        "\n",
        "    img_input = tf.keras.layers.Input(shape=(input_height,input_width, 1))\n",
        "\n",
        "    ### START CODE HERE ###\n",
        "\n",
        "    # pad the input image width to 96 pixels\n",
        "    x = tf.keras.layers.ZeroPadding2D(((0, 0), (0, 96-input_width)))(img_input)\n",
        "\n",
        "    # Block 1\n",
        "    x = conv_block(x, filters=32, kernel_size=3, pooling_size=2, pool_strides=2)\n",
        "\n",
        "    # Block 2\n",
        "    x = conv_block(x, filters=64, kernel_size=3, pooling_size=2, pool_strides=2)\n",
        "\n",
        "    # Block 3\n",
        "    x = conv_block(x, filters=128, kernel_size=3, pooling_size=2, pool_strides=2)\n",
        "    # save the feature map at this stage\n",
        "    f3 = x\n",
        "\n",
        "    # Block 4\n",
        "    x = conv_block(x, filters=256, kernel_size=3, pooling_size=2, pool_strides=2)\n",
        "    # save the feature map at this stage\n",
        "    f4 = x\n",
        "\n",
        "    # Block 5\n",
        "    x = conv_block(x, filters=256, kernel_size=3, pooling_size=2, pool_strides=2)\n",
        "    # save the feature map at this stage\n",
        "    f5 = x\n",
        "\n",
        "    ### END CODE HERE ###\n",
        "\n",
        "    return (f3, f4, f5), img_input"
      ]
    },
    {
      "cell_type": "code",
      "execution_count": 12,
      "metadata": {
        "id": "HVQm1W0CNICS",
        "colab": {
          "base_uri": "https://localhost:8080/"
        },
        "outputId": "ef6a5752-c293-4145-ea81-3ee87cca899d"
      },
      "outputs": [
        {
          "output_type": "stream",
          "name": "stdout",
          "text": [
            "Model: \"model_1\"\n",
            "_________________________________________________________________\n",
            " Layer (type)                Output Shape              Param #   \n",
            "=================================================================\n",
            " input_2 (InputLayer)        [(None, 64, 84, 1)]       0         \n",
            "                                                                 \n",
            " zero_padding2d (ZeroPadding  (None, 64, 96, 1)        0         \n",
            " 2D)                                                             \n",
            "                                                                 \n",
            " conv2d_2 (Conv2D)           (None, 64, 96, 32)        320       \n",
            "                                                                 \n",
            " leaky_re_lu_2 (LeakyReLU)   (None, 64, 96, 32)        0         \n",
            "                                                                 \n",
            " conv2d_3 (Conv2D)           (None, 64, 96, 32)        9248      \n",
            "                                                                 \n",
            " leaky_re_lu_3 (LeakyReLU)   (None, 64, 96, 32)        0         \n",
            "                                                                 \n",
            " max_pooling2d_1 (MaxPooling  (None, 32, 48, 32)       0         \n",
            " 2D)                                                             \n",
            "                                                                 \n",
            " batch_normalization_1 (Batc  (None, 32, 48, 32)       128       \n",
            " hNormalization)                                                 \n",
            "                                                                 \n",
            " conv2d_4 (Conv2D)           (None, 32, 48, 64)        18496     \n",
            "                                                                 \n",
            " leaky_re_lu_4 (LeakyReLU)   (None, 32, 48, 64)        0         \n",
            "                                                                 \n",
            " conv2d_5 (Conv2D)           (None, 32, 48, 64)        36928     \n",
            "                                                                 \n",
            " leaky_re_lu_5 (LeakyReLU)   (None, 32, 48, 64)        0         \n",
            "                                                                 \n",
            " max_pooling2d_2 (MaxPooling  (None, 16, 24, 64)       0         \n",
            " 2D)                                                             \n",
            "                                                                 \n",
            " batch_normalization_2 (Batc  (None, 16, 24, 64)       256       \n",
            " hNormalization)                                                 \n",
            "                                                                 \n",
            " conv2d_6 (Conv2D)           (None, 16, 24, 128)       73856     \n",
            "                                                                 \n",
            " leaky_re_lu_6 (LeakyReLU)   (None, 16, 24, 128)       0         \n",
            "                                                                 \n",
            " conv2d_7 (Conv2D)           (None, 16, 24, 128)       147584    \n",
            "                                                                 \n",
            " leaky_re_lu_7 (LeakyReLU)   (None, 16, 24, 128)       0         \n",
            "                                                                 \n",
            " max_pooling2d_3 (MaxPooling  (None, 8, 12, 128)       0         \n",
            " 2D)                                                             \n",
            "                                                                 \n",
            " batch_normalization_3 (Batc  (None, 8, 12, 128)       512       \n",
            " hNormalization)                                                 \n",
            "                                                                 \n",
            " conv2d_8 (Conv2D)           (None, 8, 12, 256)        295168    \n",
            "                                                                 \n",
            " leaky_re_lu_8 (LeakyReLU)   (None, 8, 12, 256)        0         \n",
            "                                                                 \n",
            " conv2d_9 (Conv2D)           (None, 8, 12, 256)        590080    \n",
            "                                                                 \n",
            " leaky_re_lu_9 (LeakyReLU)   (None, 8, 12, 256)        0         \n",
            "                                                                 \n",
            " max_pooling2d_4 (MaxPooling  (None, 4, 6, 256)        0         \n",
            " 2D)                                                             \n",
            "                                                                 \n",
            " batch_normalization_4 (Batc  (None, 4, 6, 256)        1024      \n",
            " hNormalization)                                                 \n",
            "                                                                 \n",
            " conv2d_10 (Conv2D)          (None, 4, 6, 256)         590080    \n",
            "                                                                 \n",
            " leaky_re_lu_10 (LeakyReLU)  (None, 4, 6, 256)         0         \n",
            "                                                                 \n",
            " conv2d_11 (Conv2D)          (None, 4, 6, 256)         590080    \n",
            "                                                                 \n",
            " leaky_re_lu_11 (LeakyReLU)  (None, 4, 6, 256)         0         \n",
            "                                                                 \n",
            " max_pooling2d_5 (MaxPooling  (None, 2, 3, 256)        0         \n",
            " 2D)                                                             \n",
            "                                                                 \n",
            " batch_normalization_5 (Batc  (None, 2, 3, 256)        1024      \n",
            " hNormalization)                                                 \n",
            "                                                                 \n",
            "=================================================================\n",
            "Total params: 2,354,784\n",
            "Trainable params: 2,353,312\n",
            "Non-trainable params: 1,472\n",
            "_________________________________________________________________\n",
            "None\n"
          ]
        }
      ],
      "source": [
        "# TEST CODE:\n",
        "\n",
        "test_convs, test_img_input = FCN8()\n",
        "test_model = tf.keras.Model(inputs=test_img_input, outputs=[test_convs, test_img_input])\n",
        "\n",
        "print(test_model.summary())\n",
        "\n",
        "del test_convs, test_img_input, test_model"
      ]
    },
    {
      "cell_type": "markdown",
      "metadata": {
        "id": "sxklZe_D3jOI"
      },
      "source": [
        "**Expected Output**:\n",
        "\n",
        "You should see the layers of your `conv_block()` being repeated 5 times like the output below.\n",
        "\n",
        "```txt\n",
        "Model: \"functional_3\"\n",
        "_________________________________________________________________\n",
        "Layer (type)                 Output Shape              Param #\n",
        "=================================================================\n",
        "input_3 (InputLayer)         [(None, 64, 84, 1)]       0\n",
        "_________________________________________________________________\n",
        "zero_padding2d (ZeroPadding2 (None, 64, 96, 1)         0\n",
        "_________________________________________________________________\n",
        "conv2d_2 (Conv2D)            (None, 64, 96, 32)        320\n",
        "_________________________________________________________________\n",
        "leaky_re_lu_2 (LeakyReLU)    (None, 64, 96, 32)        0\n",
        "_________________________________________________________________\n",
        "conv2d_3 (Conv2D)            (None, 64, 96, 32)        9248\n",
        "_________________________________________________________________\n",
        "leaky_re_lu_3 (LeakyReLU)    (None, 64, 96, 32)        0\n",
        "_________________________________________________________________\n",
        "max_pooling2d_1 (MaxPooling2 (None, 32, 48, 32)        0\n",
        "_________________________________________________________________\n",
        "batch_normalization_1 (Batch (None, 32, 48, 32)        128\n",
        "_________________________________________________________________\n",
        "conv2d_4 (Conv2D)            (None, 32, 48, 64)        18496\n",
        "_________________________________________________________________\n",
        "leaky_re_lu_4 (LeakyReLU)    (None, 32, 48, 64)        0\n",
        "_________________________________________________________________\n",
        "conv2d_5 (Conv2D)            (None, 32, 48, 64)        36928\n",
        "_________________________________________________________________\n",
        "leaky_re_lu_5 (LeakyReLU)    (None, 32, 48, 64)        0\n",
        "_________________________________________________________________\n",
        "max_pooling2d_2 (MaxPooling2 (None, 16, 24, 64)        0\n",
        "_________________________________________________________________\n",
        "batch_normalization_2 (Batch (None, 16, 24, 64)        256\n",
        "_________________________________________________________________\n",
        "conv2d_6 (Conv2D)            (None, 16, 24, 128)       73856\n",
        "_________________________________________________________________\n",
        "leaky_re_lu_6 (LeakyReLU)    (None, 16, 24, 128)       0\n",
        "_________________________________________________________________\n",
        "conv2d_7 (Conv2D)            (None, 16, 24, 128)       147584\n",
        "_________________________________________________________________\n",
        "leaky_re_lu_7 (LeakyReLU)    (None, 16, 24, 128)       0\n",
        "_________________________________________________________________\n",
        "max_pooling2d_3 (MaxPooling2 (None, 8, 12, 128)        0\n",
        "_________________________________________________________________\n",
        "batch_normalization_3 (Batch (None, 8, 12, 128)        512\n",
        "_________________________________________________________________\n",
        "conv2d_8 (Conv2D)            (None, 8, 12, 256)        295168\n",
        "_________________________________________________________________\n",
        "leaky_re_lu_8 (LeakyReLU)    (None, 8, 12, 256)        0\n",
        "_________________________________________________________________\n",
        "conv2d_9 (Conv2D)            (None, 8, 12, 256)        590080\n",
        "_________________________________________________________________\n",
        "leaky_re_lu_9 (LeakyReLU)    (None, 8, 12, 256)        0\n",
        "_________________________________________________________________\n",
        "max_pooling2d_4 (MaxPooling2 (None, 4, 6, 256)         0\n",
        "_________________________________________________________________\n",
        "batch_normalization_4 (Batch (None, 4, 6, 256)         1024\n",
        "_________________________________________________________________\n",
        "conv2d_10 (Conv2D)           (None, 4, 6, 256)         590080\n",
        "_________________________________________________________________\n",
        "leaky_re_lu_10 (LeakyReLU)   (None, 4, 6, 256)         0\n",
        "_________________________________________________________________\n",
        "conv2d_11 (Conv2D)           (None, 4, 6, 256)         590080\n",
        "_________________________________________________________________\n",
        "leaky_re_lu_11 (LeakyReLU)   (None, 4, 6, 256)         0\n",
        "_________________________________________________________________\n",
        "max_pooling2d_5 (MaxPooling2 (None, 2, 3, 256)         0\n",
        "_________________________________________________________________\n",
        "batch_normalization_5 (Batch (None, 2, 3, 256)         1024\n",
        "=================================================================\n",
        "Total params: 2,354,784\n",
        "Trainable params: 2,353,312\n",
        "Non-trainable params: 1,472\n",
        "_________________________________________________________________\n",
        "None\n",
        "```"
      ]
    },
    {
      "cell_type": "markdown",
      "metadata": {
        "id": "LbjYEQU8Eq-T"
      },
      "source": [
        "### Define the FCN-8 decoder"
      ]
    },
    {
      "cell_type": "markdown",
      "metadata": {
        "id": "Ux5nAU155E5O"
      },
      "source": [
        "<a name='exercise-3'></a>\n",
        "\n",
        "#### **Exercise 3**\n",
        "\n",
        "Now you can define the upsampling path taking the outputs of convolutions at each stage as arguments. This will be very similar to what you did in the ungraded lab (VGG16-FCN8-CamVid) so you can refer to it if you need a refresher.\n",
        "* Note: remember to set the `data_format` parameter for the Conv2D layers.\n",
        "\n",
        "Here is also the diagram you saw in class on how it should work:\n",
        "\n",
        "<img src='https://drive.google.com/uc?export=view&id=1lrqB4YegV8jXWNfyYAaeuFlwXIc54aRP' alt='fcn-8'>"
      ]
    },
    {
      "cell_type": "code",
      "execution_count": 13,
      "metadata": {
        "id": "giYEct_Se5Xj"
      },
      "outputs": [],
      "source": [
        "def fcn8_decoder(convs, n_classes):\n",
        "  # features from the encoder stage\n",
        "  f3, f4, f5 = convs\n",
        "\n",
        "  # number of filters\n",
        "  n = 512\n",
        "\n",
        "  # add convolutional layers on top of the CNN extractor.\n",
        "  o = tf.keras.layers.Conv2D(n,\n",
        "                             kernel_size=(7, 7),\n",
        "                             activation='relu',\n",
        "                             padding='same',\n",
        "                             name=\"conv6\",\n",
        "                             data_format=IMAGE_ORDERING)(f5)\n",
        "  o = tf.keras.layers.Dropout(0.5)(o)\n",
        "\n",
        "  o = tf.keras.layers.Conv2D(n,\n",
        "                             kernel_size=(1, 1),\n",
        "                             activation='relu',\n",
        "                             padding='same',\n",
        "                             name=\"conv7\",\n",
        "                             data_format=IMAGE_ORDERING)(o)\n",
        "  o = tf.keras.layers.Dropout(0.5)(o)\n",
        "\n",
        "  o = tf.keras.layers.Conv2D(n_classes,\n",
        "                             kernel_size=(1, 1),\n",
        "                             activation='relu',\n",
        "                             padding='same',\n",
        "                             data_format=IMAGE_ORDERING)(o)\n",
        "\n",
        "\n",
        "  ### START CODE HERE ###\n",
        "\n",
        "  # Upsample `o` above and crop any extra pixels introduced\n",
        "  o = tf.keras.layers.Conv2DTranspose(n_classes,\n",
        "                                      kernel_size=(4, 4),\n",
        "                                      strides=(2, 2),\n",
        "                                      use_bias=False,\n",
        "                                      data_format=IMAGE_ORDERING)(o)\n",
        "  o = tf.keras.layers.Cropping2D(cropping=(1, 1))(o)\n",
        "\n",
        "  # load the pool 4 prediction and do a 1x1 convolution to reshape it to the same shape of `o` above\n",
        "  o2 = f4\n",
        "  o2 = tf.keras.layers.Conv2D(n_classes,\n",
        "                              kernel_size=(1, 1),\n",
        "                              activation='relu',\n",
        "                              padding='same',\n",
        "                              data_format=IMAGE_ORDERING)(o2)\n",
        "\n",
        "  # add the results of the upsampling and pool 4 prediction\n",
        "  o = tf.keras.layers.Add()([o, o2])\n",
        "\n",
        "  # upsample the resulting tensor of the operation you just did\n",
        "  o = tf.keras.layers.Conv2DTranspose(n_classes,\n",
        "                                      kernel_size=(4, 4),\n",
        "                                      strides=(2, 2),\n",
        "                                      use_bias=False,\n",
        "                                      data_format=IMAGE_ORDERING)(o)\n",
        "  o = tf.keras.layers.Cropping2D(cropping=(1, 1))(o)\n",
        "\n",
        "  # load the pool 3 prediction and do a 1x1 convolution to reshape it to the same shape of `o` above\n",
        "  o2 = f3\n",
        "  o2 = tf.keras.layers.Conv2D(n_classes,\n",
        "                              kernel_size=(1, 1),\n",
        "                              activation='relu',\n",
        "                              padding='same',\n",
        "                              data_format=IMAGE_ORDERING)(o2)\n",
        "\n",
        "  # add the results of the upsampling and pool 3 prediction\n",
        "  o = tf.keras.layers.Add()([o, o2])\n",
        "\n",
        "  # upsample up to the size of the original image\n",
        "  o = tf.keras.layers.Conv2DTranspose(n_classes,\n",
        "                                      kernel_size=(8, 8),\n",
        "                                      strides=(8, 8),\n",
        "                                      use_bias=False,\n",
        "                                      data_format=IMAGE_ORDERING)(o)\n",
        "  o = tf.keras.layers.Cropping2D(cropping=((0, 0), (0, 96-84)))(o)\n",
        "\n",
        "  # append a sigmoid activation\n",
        "  o = (tf.keras.layers.Activation('sigmoid'))(o)\n",
        "  ### END CODE HERE ###\n",
        "\n",
        "  return o"
      ]
    },
    {
      "cell_type": "code",
      "execution_count": 14,
      "metadata": {
        "id": "lQHioDlR5K1_",
        "colab": {
          "base_uri": "https://localhost:8080/"
        },
        "outputId": "7af401bb-c275-4664-b35c-5475fe3db8d8"
      },
      "outputs": [
        {
          "output_type": "stream",
          "name": "stdout",
          "text": [
            "(None, 64, 84, 11)\n"
          ]
        }
      ],
      "source": [
        "# TEST CODE\n",
        "\n",
        "test_convs, test_img_input = FCN8()\n",
        "test_fcn8_decoder = fcn8_decoder(test_convs, 11)\n",
        "\n",
        "print(test_fcn8_decoder.shape)\n",
        "\n",
        "del test_convs, test_img_input, test_fcn8_decoder"
      ]
    },
    {
      "cell_type": "markdown",
      "metadata": {
        "id": "C1qTwTX-5fwH"
      },
      "source": [
        "**Expected Output:**\n",
        "\n",
        "```txt\n",
        "(None, 64, 84, 11)\n",
        "```"
      ]
    },
    {
      "cell_type": "markdown",
      "metadata": {
        "id": "cJOhQz86Qk6n"
      },
      "source": [
        "### Define the Complete Model\n",
        "\n",
        "The downsampling and upsampling paths can now be combined as shown below."
      ]
    },
    {
      "cell_type": "code",
      "execution_count": 15,
      "metadata": {
        "id": "9EJEf484312h",
        "lines_to_next_cell": 2
      },
      "outputs": [],
      "source": [
        "# start the encoder using the default input size 64 x 84\n",
        "convs, img_input = FCN8()\n",
        "\n",
        "# pass the convolutions obtained in the encoder to the decoder\n",
        "dec_op = fcn8_decoder(convs, n_classes)\n",
        "\n",
        "# define the model specifying the input (batch of images) and output (decoder output)\n",
        "model = tf.keras.Model(inputs=img_input, outputs=dec_op)"
      ]
    },
    {
      "cell_type": "code",
      "execution_count": 16,
      "metadata": {
        "id": "2GAenp1M4gXx",
        "colab": {
          "base_uri": "https://localhost:8080/"
        },
        "outputId": "a87c3bc1-056f-440c-c3c4-6b212fbbb5cf"
      },
      "outputs": [
        {
          "output_type": "stream",
          "name": "stdout",
          "text": [
            "Model: \"model_2\"\n",
            "__________________________________________________________________________________________________\n",
            " Layer (type)                   Output Shape         Param #     Connected to                     \n",
            "==================================================================================================\n",
            " input_4 (InputLayer)           [(None, 64, 84, 1)]  0           []                               \n",
            "                                                                                                  \n",
            " zero_padding2d_2 (ZeroPadding2  (None, 64, 96, 1)   0           ['input_4[0][0]']                \n",
            " D)                                                                                               \n",
            "                                                                                                  \n",
            " conv2d_25 (Conv2D)             (None, 64, 96, 32)   320         ['zero_padding2d_2[0][0]']       \n",
            "                                                                                                  \n",
            " leaky_re_lu_22 (LeakyReLU)     (None, 64, 96, 32)   0           ['conv2d_25[0][0]']              \n",
            "                                                                                                  \n",
            " conv2d_26 (Conv2D)             (None, 64, 96, 32)   9248        ['leaky_re_lu_22[0][0]']         \n",
            "                                                                                                  \n",
            " leaky_re_lu_23 (LeakyReLU)     (None, 64, 96, 32)   0           ['conv2d_26[0][0]']              \n",
            "                                                                                                  \n",
            " max_pooling2d_11 (MaxPooling2D  (None, 32, 48, 32)  0           ['leaky_re_lu_23[0][0]']         \n",
            " )                                                                                                \n",
            "                                                                                                  \n",
            " batch_normalization_11 (BatchN  (None, 32, 48, 32)  128         ['max_pooling2d_11[0][0]']       \n",
            " ormalization)                                                                                    \n",
            "                                                                                                  \n",
            " conv2d_27 (Conv2D)             (None, 32, 48, 64)   18496       ['batch_normalization_11[0][0]'] \n",
            "                                                                                                  \n",
            " leaky_re_lu_24 (LeakyReLU)     (None, 32, 48, 64)   0           ['conv2d_27[0][0]']              \n",
            "                                                                                                  \n",
            " conv2d_28 (Conv2D)             (None, 32, 48, 64)   36928       ['leaky_re_lu_24[0][0]']         \n",
            "                                                                                                  \n",
            " leaky_re_lu_25 (LeakyReLU)     (None, 32, 48, 64)   0           ['conv2d_28[0][0]']              \n",
            "                                                                                                  \n",
            " max_pooling2d_12 (MaxPooling2D  (None, 16, 24, 64)  0           ['leaky_re_lu_25[0][0]']         \n",
            " )                                                                                                \n",
            "                                                                                                  \n",
            " batch_normalization_12 (BatchN  (None, 16, 24, 64)  256         ['max_pooling2d_12[0][0]']       \n",
            " ormalization)                                                                                    \n",
            "                                                                                                  \n",
            " conv2d_29 (Conv2D)             (None, 16, 24, 128)  73856       ['batch_normalization_12[0][0]'] \n",
            "                                                                                                  \n",
            " leaky_re_lu_26 (LeakyReLU)     (None, 16, 24, 128)  0           ['conv2d_29[0][0]']              \n",
            "                                                                                                  \n",
            " conv2d_30 (Conv2D)             (None, 16, 24, 128)  147584      ['leaky_re_lu_26[0][0]']         \n",
            "                                                                                                  \n",
            " leaky_re_lu_27 (LeakyReLU)     (None, 16, 24, 128)  0           ['conv2d_30[0][0]']              \n",
            "                                                                                                  \n",
            " max_pooling2d_13 (MaxPooling2D  (None, 8, 12, 128)  0           ['leaky_re_lu_27[0][0]']         \n",
            " )                                                                                                \n",
            "                                                                                                  \n",
            " batch_normalization_13 (BatchN  (None, 8, 12, 128)  512         ['max_pooling2d_13[0][0]']       \n",
            " ormalization)                                                                                    \n",
            "                                                                                                  \n",
            " conv2d_31 (Conv2D)             (None, 8, 12, 256)   295168      ['batch_normalization_13[0][0]'] \n",
            "                                                                                                  \n",
            " leaky_re_lu_28 (LeakyReLU)     (None, 8, 12, 256)   0           ['conv2d_31[0][0]']              \n",
            "                                                                                                  \n",
            " conv2d_32 (Conv2D)             (None, 8, 12, 256)   590080      ['leaky_re_lu_28[0][0]']         \n",
            "                                                                                                  \n",
            " leaky_re_lu_29 (LeakyReLU)     (None, 8, 12, 256)   0           ['conv2d_32[0][0]']              \n",
            "                                                                                                  \n",
            " max_pooling2d_14 (MaxPooling2D  (None, 4, 6, 256)   0           ['leaky_re_lu_29[0][0]']         \n",
            " )                                                                                                \n",
            "                                                                                                  \n",
            " batch_normalization_14 (BatchN  (None, 4, 6, 256)   1024        ['max_pooling2d_14[0][0]']       \n",
            " ormalization)                                                                                    \n",
            "                                                                                                  \n",
            " conv2d_33 (Conv2D)             (None, 4, 6, 256)    590080      ['batch_normalization_14[0][0]'] \n",
            "                                                                                                  \n",
            " leaky_re_lu_30 (LeakyReLU)     (None, 4, 6, 256)    0           ['conv2d_33[0][0]']              \n",
            "                                                                                                  \n",
            " conv2d_34 (Conv2D)             (None, 4, 6, 256)    590080      ['leaky_re_lu_30[0][0]']         \n",
            "                                                                                                  \n",
            " leaky_re_lu_31 (LeakyReLU)     (None, 4, 6, 256)    0           ['conv2d_34[0][0]']              \n",
            "                                                                                                  \n",
            " max_pooling2d_15 (MaxPooling2D  (None, 2, 3, 256)   0           ['leaky_re_lu_31[0][0]']         \n",
            " )                                                                                                \n",
            "                                                                                                  \n",
            " batch_normalization_15 (BatchN  (None, 2, 3, 256)   1024        ['max_pooling2d_15[0][0]']       \n",
            " ormalization)                                                                                    \n",
            "                                                                                                  \n",
            " conv6 (Conv2D)                 (None, 2, 3, 512)    6423040     ['batch_normalization_15[0][0]'] \n",
            "                                                                                                  \n",
            " dropout_2 (Dropout)            (None, 2, 3, 512)    0           ['conv6[0][0]']                  \n",
            "                                                                                                  \n",
            " conv7 (Conv2D)                 (None, 2, 3, 512)    262656      ['dropout_2[0][0]']              \n",
            "                                                                                                  \n",
            " dropout_3 (Dropout)            (None, 2, 3, 512)    0           ['conv7[0][0]']                  \n",
            "                                                                                                  \n",
            " conv2d_35 (Conv2D)             (None, 2, 3, 11)     5643        ['dropout_3[0][0]']              \n",
            "                                                                                                  \n",
            " conv2d_transpose_3 (Conv2DTran  (None, 6, 8, 11)    1936        ['conv2d_35[0][0]']              \n",
            " spose)                                                                                           \n",
            "                                                                                                  \n",
            " cropping2d_3 (Cropping2D)      (None, 4, 6, 11)     0           ['conv2d_transpose_3[0][0]']     \n",
            "                                                                                                  \n",
            " conv2d_36 (Conv2D)             (None, 4, 6, 11)     2827        ['batch_normalization_14[0][0]'] \n",
            "                                                                                                  \n",
            " add_2 (Add)                    (None, 4, 6, 11)     0           ['cropping2d_3[0][0]',           \n",
            "                                                                  'conv2d_36[0][0]']              \n",
            "                                                                                                  \n",
            " conv2d_transpose_4 (Conv2DTran  (None, 10, 14, 11)  1936        ['add_2[0][0]']                  \n",
            " spose)                                                                                           \n",
            "                                                                                                  \n",
            " cropping2d_4 (Cropping2D)      (None, 8, 12, 11)    0           ['conv2d_transpose_4[0][0]']     \n",
            "                                                                                                  \n",
            " conv2d_37 (Conv2D)             (None, 8, 12, 11)    1419        ['batch_normalization_13[0][0]'] \n",
            "                                                                                                  \n",
            " add_3 (Add)                    (None, 8, 12, 11)    0           ['cropping2d_4[0][0]',           \n",
            "                                                                  'conv2d_37[0][0]']              \n",
            "                                                                                                  \n",
            " conv2d_transpose_5 (Conv2DTran  (None, 64, 96, 11)  7744        ['add_3[0][0]']                  \n",
            " spose)                                                                                           \n",
            "                                                                                                  \n",
            " cropping2d_5 (Cropping2D)      (None, 64, 84, 11)   0           ['conv2d_transpose_5[0][0]']     \n",
            "                                                                                                  \n",
            " activation_1 (Activation)      (None, 64, 84, 11)   0           ['cropping2d_5[0][0]']           \n",
            "                                                                                                  \n",
            "==================================================================================================\n",
            "Total params: 9,061,985\n",
            "Trainable params: 9,060,513\n",
            "Non-trainable params: 1,472\n",
            "__________________________________________________________________________________________________\n"
          ]
        }
      ],
      "source": [
        "model.summary()"
      ]
    },
    {
      "cell_type": "markdown",
      "metadata": {
        "id": "wAAXygZtbZmu"
      },
      "source": [
        "## Compile the Model"
      ]
    },
    {
      "cell_type": "markdown",
      "metadata": {
        "id": "sC-9m1R_5tjV"
      },
      "source": [
        "<a name='exercise-4'></a>\n",
        "\n",
        "### **Exercise 4**\n",
        "\n",
        "Compile the model using an appropriate loss, optimizer, and metric.\n",
        "\n",
        "_**Note:** There is a current issue with the grader accepting certain loss functions. We will be upgrading it but while in progress, please use this syntax:_\n",
        "\n",
        "```\n",
        "loss='<loss string name>'\n",
        "```\n",
        "\n",
        "*instead of:*\n",
        "\n",
        "```\n",
        "loss=tf.keras.losses.<StringCassName>\n",
        "```\n",
        "\n"
      ]
    },
    {
      "cell_type": "code",
      "execution_count": 17,
      "metadata": {
        "id": "ZpWpp8h4g_rE"
      },
      "outputs": [],
      "source": [
        "### START CODE HERE ###\n",
        "model.compile(loss='categorical_crossentropy',\n",
        "              optimizer=tf.keras.optimizers.SGD(learning_rate=0.01,\n",
        "                                                momentum=0.9,\n",
        "                                                nesterov=True),\n",
        "              metrics=['accuracy'])\n",
        "### END CODE HERE ###"
      ]
    },
    {
      "cell_type": "markdown",
      "metadata": {
        "id": "510v0aVDXv1f"
      },
      "source": [
        "## Model Training"
      ]
    },
    {
      "cell_type": "markdown",
      "metadata": {
        "id": "1udK8qps6PcG"
      },
      "source": [
        "<a name='exercise-5'></a>\n",
        "\n",
        "### **Exercise 5**\n",
        "\n",
        "You can now train the model. Set the number of epochs and observe the metrics returned at each iteration. You can also terminate the cell execution if you think your model is performing well already."
      ]
    },
    {
      "cell_type": "code",
      "execution_count": 18,
      "metadata": {
        "id": "8HoZwpGWhMB-",
        "colab": {
          "base_uri": "https://localhost:8080/"
        },
        "outputId": "d4ec9418-998b-4719-f605-2711d0bd6562"
      },
      "outputs": [
        {
          "output_type": "stream",
          "name": "stdout",
          "text": [
            "Epoch 1/170\n",
            "125/125 [==============================] - 17s 48ms/step - loss: 0.9994 - accuracy: 0.7381 - val_loss: 0.4133 - val_accuracy: 0.9417\n",
            "Epoch 2/170\n",
            "125/125 [==============================] - 7s 52ms/step - loss: 0.2363 - accuracy: 0.9427 - val_loss: 0.4313 - val_accuracy: 0.9417\n",
            "Epoch 3/170\n",
            "125/125 [==============================] - 6s 48ms/step - loss: 0.2294 - accuracy: 0.9427 - val_loss: 0.3893 - val_accuracy: 0.9417\n",
            "Epoch 4/170\n",
            "125/125 [==============================] - 6s 50ms/step - loss: 0.2242 - accuracy: 0.9427 - val_loss: 0.2728 - val_accuracy: 0.9417\n",
            "Epoch 5/170\n",
            "125/125 [==============================] - 6s 49ms/step - loss: 0.2194 - accuracy: 0.9427 - val_loss: 0.2265 - val_accuracy: 0.9417\n",
            "Epoch 6/170\n",
            "125/125 [==============================] - 6s 46ms/step - loss: 0.2148 - accuracy: 0.9427 - val_loss: 0.2166 - val_accuracy: 0.9417\n",
            "Epoch 7/170\n",
            "125/125 [==============================] - 6s 51ms/step - loss: 0.2107 - accuracy: 0.9427 - val_loss: 0.2121 - val_accuracy: 0.9417\n",
            "Epoch 8/170\n",
            "125/125 [==============================] - 6s 45ms/step - loss: 0.2069 - accuracy: 0.9426 - val_loss: 0.2087 - val_accuracy: 0.9416\n",
            "Epoch 9/170\n",
            "125/125 [==============================] - 6s 49ms/step - loss: 0.2036 - accuracy: 0.9426 - val_loss: 0.2053 - val_accuracy: 0.9416\n",
            "Epoch 10/170\n",
            "125/125 [==============================] - 6s 51ms/step - loss: 0.2006 - accuracy: 0.9426 - val_loss: 0.2024 - val_accuracy: 0.9416\n",
            "Epoch 11/170\n",
            "125/125 [==============================] - 6s 45ms/step - loss: 0.1979 - accuracy: 0.9426 - val_loss: 0.2000 - val_accuracy: 0.9416\n",
            "Epoch 12/170\n",
            "125/125 [==============================] - 6s 51ms/step - loss: 0.1956 - accuracy: 0.9426 - val_loss: 0.1977 - val_accuracy: 0.9416\n",
            "Epoch 13/170\n",
            "125/125 [==============================] - 6s 45ms/step - loss: 0.1935 - accuracy: 0.9426 - val_loss: 0.1957 - val_accuracy: 0.9417\n",
            "Epoch 14/170\n",
            "125/125 [==============================] - 6s 49ms/step - loss: 0.1916 - accuracy: 0.9427 - val_loss: 0.1938 - val_accuracy: 0.9417\n",
            "Epoch 15/170\n",
            "125/125 [==============================] - 6s 48ms/step - loss: 0.1898 - accuracy: 0.9427 - val_loss: 0.1922 - val_accuracy: 0.9418\n",
            "Epoch 16/170\n",
            "125/125 [==============================] - 6s 46ms/step - loss: 0.1883 - accuracy: 0.9428 - val_loss: 0.1907 - val_accuracy: 0.9419\n",
            "Epoch 17/170\n",
            "125/125 [==============================] - 7s 52ms/step - loss: 0.1868 - accuracy: 0.9429 - val_loss: 0.1894 - val_accuracy: 0.9420\n",
            "Epoch 18/170\n",
            "125/125 [==============================] - 6s 45ms/step - loss: 0.1854 - accuracy: 0.9431 - val_loss: 0.1880 - val_accuracy: 0.9421\n",
            "Epoch 19/170\n",
            "125/125 [==============================] - 6s 51ms/step - loss: 0.1841 - accuracy: 0.9432 - val_loss: 0.1867 - val_accuracy: 0.9422\n",
            "Epoch 20/170\n",
            "125/125 [==============================] - 6s 51ms/step - loss: 0.1828 - accuracy: 0.9434 - val_loss: 0.1855 - val_accuracy: 0.9424\n",
            "Epoch 21/170\n",
            "125/125 [==============================] - 6s 47ms/step - loss: 0.1816 - accuracy: 0.9435 - val_loss: 0.1844 - val_accuracy: 0.9426\n",
            "Epoch 22/170\n",
            "125/125 [==============================] - 6s 52ms/step - loss: 0.1804 - accuracy: 0.9437 - val_loss: 0.1832 - val_accuracy: 0.9427\n",
            "Epoch 23/170\n",
            "125/125 [==============================] - 6s 48ms/step - loss: 0.1793 - accuracy: 0.9439 - val_loss: 0.1820 - val_accuracy: 0.9429\n",
            "Epoch 24/170\n",
            "125/125 [==============================] - 6s 52ms/step - loss: 0.1781 - accuracy: 0.9441 - val_loss: 0.1808 - val_accuracy: 0.9431\n",
            "Epoch 25/170\n",
            "125/125 [==============================] - 6s 47ms/step - loss: 0.1769 - accuracy: 0.9444 - val_loss: 0.1797 - val_accuracy: 0.9434\n",
            "Epoch 26/170\n",
            "125/125 [==============================] - 6s 51ms/step - loss: 0.1756 - accuracy: 0.9446 - val_loss: 0.1785 - val_accuracy: 0.9436\n",
            "Epoch 27/170\n",
            "125/125 [==============================] - 6s 51ms/step - loss: 0.1744 - accuracy: 0.9448 - val_loss: 0.1772 - val_accuracy: 0.9438\n",
            "Epoch 28/170\n",
            "125/125 [==============================] - 6s 46ms/step - loss: 0.1731 - accuracy: 0.9451 - val_loss: 0.1759 - val_accuracy: 0.9440\n",
            "Epoch 29/170\n",
            "125/125 [==============================] - 7s 53ms/step - loss: 0.1717 - accuracy: 0.9453 - val_loss: 0.1746 - val_accuracy: 0.9442\n",
            "Epoch 30/170\n",
            "125/125 [==============================] - 6s 46ms/step - loss: 0.1703 - accuracy: 0.9456 - val_loss: 0.1731 - val_accuracy: 0.9445\n",
            "Epoch 31/170\n",
            "125/125 [==============================] - 6s 49ms/step - loss: 0.1688 - accuracy: 0.9459 - val_loss: 0.1717 - val_accuracy: 0.9447\n",
            "Epoch 32/170\n",
            "125/125 [==============================] - 7s 52ms/step - loss: 0.1673 - accuracy: 0.9461 - val_loss: 0.1701 - val_accuracy: 0.9450\n",
            "Epoch 33/170\n",
            "125/125 [==============================] - 6s 46ms/step - loss: 0.1657 - accuracy: 0.9464 - val_loss: 0.1685 - val_accuracy: 0.9452\n",
            "Epoch 34/170\n",
            "125/125 [==============================] - 7s 55ms/step - loss: 0.1641 - accuracy: 0.9467 - val_loss: 0.1668 - val_accuracy: 0.9455\n",
            "Epoch 35/170\n",
            "125/125 [==============================] - 6s 46ms/step - loss: 0.1623 - accuracy: 0.9470 - val_loss: 0.1651 - val_accuracy: 0.9458\n",
            "Epoch 36/170\n",
            "125/125 [==============================] - 6s 49ms/step - loss: 0.1606 - accuracy: 0.9474 - val_loss: 0.1633 - val_accuracy: 0.9461\n",
            "Epoch 37/170\n",
            "125/125 [==============================] - 6s 49ms/step - loss: 0.1587 - accuracy: 0.9477 - val_loss: 0.1615 - val_accuracy: 0.9466\n",
            "Epoch 38/170\n",
            "125/125 [==============================] - 6s 45ms/step - loss: 0.1569 - accuracy: 0.9481 - val_loss: 0.1595 - val_accuracy: 0.9469\n",
            "Epoch 39/170\n",
            "125/125 [==============================] - 6s 52ms/step - loss: 0.1549 - accuracy: 0.9485 - val_loss: 0.1577 - val_accuracy: 0.9473\n",
            "Epoch 40/170\n",
            "125/125 [==============================] - 6s 46ms/step - loss: 0.1529 - accuracy: 0.9489 - val_loss: 0.1556 - val_accuracy: 0.9478\n",
            "Epoch 41/170\n",
            "125/125 [==============================] - 6s 48ms/step - loss: 0.1508 - accuracy: 0.9493 - val_loss: 0.1539 - val_accuracy: 0.9480\n",
            "Epoch 42/170\n",
            "125/125 [==============================] - 6s 48ms/step - loss: 0.1487 - accuracy: 0.9499 - val_loss: 0.1514 - val_accuracy: 0.9487\n",
            "Epoch 43/170\n",
            "125/125 [==============================] - 6s 46ms/step - loss: 0.1467 - accuracy: 0.9504 - val_loss: 0.1496 - val_accuracy: 0.9492\n",
            "Epoch 44/170\n",
            "125/125 [==============================] - 6s 52ms/step - loss: 0.1447 - accuracy: 0.9509 - val_loss: 0.1475 - val_accuracy: 0.9498\n",
            "Epoch 45/170\n",
            "125/125 [==============================] - 6s 46ms/step - loss: 0.1426 - accuracy: 0.9516 - val_loss: 0.1454 - val_accuracy: 0.9505\n",
            "Epoch 46/170\n",
            "125/125 [==============================] - 6s 49ms/step - loss: 0.1400 - accuracy: 0.9524 - val_loss: 0.1437 - val_accuracy: 0.9511\n",
            "Epoch 47/170\n",
            "125/125 [==============================] - 6s 51ms/step - loss: 0.1377 - accuracy: 0.9531 - val_loss: 0.1408 - val_accuracy: 0.9523\n",
            "Epoch 48/170\n",
            "125/125 [==============================] - 6s 45ms/step - loss: 0.1354 - accuracy: 0.9540 - val_loss: 0.1381 - val_accuracy: 0.9531\n",
            "Epoch 49/170\n",
            "125/125 [==============================] - 6s 52ms/step - loss: 0.1326 - accuracy: 0.9550 - val_loss: 0.1356 - val_accuracy: 0.9540\n",
            "Epoch 50/170\n",
            "125/125 [==============================] - 6s 46ms/step - loss: 0.1298 - accuracy: 0.9560 - val_loss: 0.1335 - val_accuracy: 0.9553\n",
            "Epoch 51/170\n",
            "125/125 [==============================] - 6s 49ms/step - loss: 0.1272 - accuracy: 0.9569 - val_loss: 0.1304 - val_accuracy: 0.9559\n",
            "Epoch 52/170\n",
            "125/125 [==============================] - 6s 48ms/step - loss: 0.1242 - accuracy: 0.9580 - val_loss: 0.1281 - val_accuracy: 0.9560\n",
            "Epoch 53/170\n",
            "125/125 [==============================] - 6s 45ms/step - loss: 0.1212 - accuracy: 0.9590 - val_loss: 0.1248 - val_accuracy: 0.9583\n",
            "Epoch 54/170\n",
            "125/125 [==============================] - 6s 51ms/step - loss: 0.1182 - accuracy: 0.9600 - val_loss: 0.1216 - val_accuracy: 0.9590\n",
            "Epoch 55/170\n",
            "125/125 [==============================] - 6s 45ms/step - loss: 0.1148 - accuracy: 0.9612 - val_loss: 0.1183 - val_accuracy: 0.9600\n",
            "Epoch 56/170\n",
            "125/125 [==============================] - 6s 48ms/step - loss: 0.1117 - accuracy: 0.9621 - val_loss: 0.1170 - val_accuracy: 0.9611\n",
            "Epoch 57/170\n",
            "125/125 [==============================] - 6s 49ms/step - loss: 0.1086 - accuracy: 0.9631 - val_loss: 0.1151 - val_accuracy: 0.9604\n",
            "Epoch 58/170\n",
            "125/125 [==============================] - 6s 46ms/step - loss: 0.1056 - accuracy: 0.9641 - val_loss: 0.1094 - val_accuracy: 0.9630\n",
            "Epoch 59/170\n",
            "125/125 [==============================] - 6s 51ms/step - loss: 0.1028 - accuracy: 0.9650 - val_loss: 0.1067 - val_accuracy: 0.9640\n",
            "Epoch 60/170\n",
            "125/125 [==============================] - 6s 48ms/step - loss: 0.0999 - accuracy: 0.9660 - val_loss: 0.1055 - val_accuracy: 0.9646\n",
            "Epoch 61/170\n",
            "125/125 [==============================] - 6s 52ms/step - loss: 0.0973 - accuracy: 0.9668 - val_loss: 0.1018 - val_accuracy: 0.9657\n",
            "Epoch 62/170\n",
            "125/125 [==============================] - 6s 50ms/step - loss: 0.0950 - accuracy: 0.9676 - val_loss: 0.0991 - val_accuracy: 0.9665\n",
            "Epoch 63/170\n",
            "125/125 [==============================] - 6s 47ms/step - loss: 0.0919 - accuracy: 0.9687 - val_loss: 0.0992 - val_accuracy: 0.9667\n",
            "Epoch 64/170\n",
            "125/125 [==============================] - 7s 54ms/step - loss: 0.0896 - accuracy: 0.9694 - val_loss: 0.0951 - val_accuracy: 0.9678\n",
            "Epoch 65/170\n",
            "125/125 [==============================] - 6s 46ms/step - loss: 0.0875 - accuracy: 0.9702 - val_loss: 0.0936 - val_accuracy: 0.9684\n",
            "Epoch 66/170\n",
            "125/125 [==============================] - 6s 51ms/step - loss: 0.0850 - accuracy: 0.9711 - val_loss: 0.0925 - val_accuracy: 0.9697\n",
            "Epoch 67/170\n",
            "125/125 [==============================] - 6s 49ms/step - loss: 0.0828 - accuracy: 0.9719 - val_loss: 0.0888 - val_accuracy: 0.9701\n",
            "Epoch 68/170\n",
            "125/125 [==============================] - 6s 48ms/step - loss: 0.0804 - accuracy: 0.9728 - val_loss: 0.0851 - val_accuracy: 0.9713\n",
            "Epoch 69/170\n",
            "125/125 [==============================] - 6s 52ms/step - loss: 0.0785 - accuracy: 0.9735 - val_loss: 0.0838 - val_accuracy: 0.9721\n",
            "Epoch 70/170\n",
            "125/125 [==============================] - 6s 46ms/step - loss: 0.0765 - accuracy: 0.9741 - val_loss: 0.0825 - val_accuracy: 0.9713\n",
            "Epoch 71/170\n",
            "125/125 [==============================] - 6s 51ms/step - loss: 0.0747 - accuracy: 0.9747 - val_loss: 0.0811 - val_accuracy: 0.9729\n",
            "Epoch 72/170\n",
            "125/125 [==============================] - 6s 49ms/step - loss: 0.0726 - accuracy: 0.9753 - val_loss: 0.0777 - val_accuracy: 0.9736\n",
            "Epoch 73/170\n",
            "125/125 [==============================] - 6s 46ms/step - loss: 0.0708 - accuracy: 0.9759 - val_loss: 0.0761 - val_accuracy: 0.9742\n",
            "Epoch 74/170\n",
            "125/125 [==============================] - 7s 54ms/step - loss: 0.0691 - accuracy: 0.9764 - val_loss: 0.0767 - val_accuracy: 0.9744\n",
            "Epoch 75/170\n",
            "125/125 [==============================] - 6s 47ms/step - loss: 0.0673 - accuracy: 0.9769 - val_loss: 0.0844 - val_accuracy: 0.9711\n",
            "Epoch 76/170\n",
            "125/125 [==============================] - 7s 52ms/step - loss: 0.0660 - accuracy: 0.9773 - val_loss: 0.0764 - val_accuracy: 0.9740\n",
            "Epoch 77/170\n",
            "125/125 [==============================] - 6s 48ms/step - loss: 0.0646 - accuracy: 0.9777 - val_loss: 0.0744 - val_accuracy: 0.9742\n",
            "Epoch 78/170\n",
            "125/125 [==============================] - 6s 46ms/step - loss: 0.0630 - accuracy: 0.9781 - val_loss: 0.0723 - val_accuracy: 0.9757\n",
            "Epoch 79/170\n",
            "125/125 [==============================] - 6s 52ms/step - loss: 0.0616 - accuracy: 0.9785 - val_loss: 0.0681 - val_accuracy: 0.9761\n",
            "Epoch 80/170\n",
            "125/125 [==============================] - 6s 46ms/step - loss: 0.0603 - accuracy: 0.9789 - val_loss: 0.0758 - val_accuracy: 0.9728\n",
            "Epoch 81/170\n",
            "125/125 [==============================] - 6s 50ms/step - loss: 0.0592 - accuracy: 0.9792 - val_loss: 0.0694 - val_accuracy: 0.9751\n",
            "Epoch 82/170\n",
            "125/125 [==============================] - 6s 49ms/step - loss: 0.0577 - accuracy: 0.9796 - val_loss: 0.0652 - val_accuracy: 0.9774\n",
            "Epoch 83/170\n",
            "125/125 [==============================] - 6s 46ms/step - loss: 0.0571 - accuracy: 0.9797 - val_loss: 0.0641 - val_accuracy: 0.9771\n",
            "Epoch 84/170\n",
            "125/125 [==============================] - 7s 55ms/step - loss: 0.0558 - accuracy: 0.9801 - val_loss: 0.0727 - val_accuracy: 0.9747\n",
            "Epoch 85/170\n",
            "125/125 [==============================] - 6s 46ms/step - loss: 0.0548 - accuracy: 0.9804 - val_loss: 0.0655 - val_accuracy: 0.9775\n",
            "Epoch 86/170\n",
            "125/125 [==============================] - 6s 52ms/step - loss: 0.0539 - accuracy: 0.9806 - val_loss: 0.0610 - val_accuracy: 0.9784\n",
            "Epoch 87/170\n",
            "125/125 [==============================] - 6s 47ms/step - loss: 0.0530 - accuracy: 0.9809 - val_loss: 0.0618 - val_accuracy: 0.9780\n",
            "Epoch 88/170\n",
            "125/125 [==============================] - 6s 48ms/step - loss: 0.0524 - accuracy: 0.9810 - val_loss: 0.0598 - val_accuracy: 0.9786\n",
            "Epoch 89/170\n",
            "125/125 [==============================] - 6s 51ms/step - loss: 0.0514 - accuracy: 0.9814 - val_loss: 0.0596 - val_accuracy: 0.9789\n",
            "Epoch 90/170\n",
            "125/125 [==============================] - 6s 48ms/step - loss: 0.0506 - accuracy: 0.9816 - val_loss: 0.0604 - val_accuracy: 0.9781\n",
            "Epoch 91/170\n",
            "125/125 [==============================] - 7s 54ms/step - loss: 0.0499 - accuracy: 0.9818 - val_loss: 0.0587 - val_accuracy: 0.9792\n",
            "Epoch 92/170\n",
            "125/125 [==============================] - 6s 46ms/step - loss: 0.0492 - accuracy: 0.9820 - val_loss: 0.0589 - val_accuracy: 0.9789\n",
            "Epoch 93/170\n",
            "125/125 [==============================] - 6s 50ms/step - loss: 0.0490 - accuracy: 0.9820 - val_loss: 0.0572 - val_accuracy: 0.9795\n",
            "Epoch 94/170\n",
            "125/125 [==============================] - 6s 51ms/step - loss: 0.0480 - accuracy: 0.9823 - val_loss: 0.0585 - val_accuracy: 0.9791\n",
            "Epoch 95/170\n",
            "125/125 [==============================] - 6s 46ms/step - loss: 0.0475 - accuracy: 0.9825 - val_loss: 0.0574 - val_accuracy: 0.9790\n",
            "Epoch 96/170\n",
            "125/125 [==============================] - 7s 54ms/step - loss: 0.0468 - accuracy: 0.9827 - val_loss: 0.0555 - val_accuracy: 0.9800\n",
            "Epoch 97/170\n",
            "125/125 [==============================] - 6s 46ms/step - loss: 0.0463 - accuracy: 0.9828 - val_loss: 0.0551 - val_accuracy: 0.9799\n",
            "Epoch 98/170\n",
            "125/125 [==============================] - 6s 49ms/step - loss: 0.0455 - accuracy: 0.9831 - val_loss: 0.0572 - val_accuracy: 0.9792\n",
            "Epoch 99/170\n",
            "125/125 [==============================] - 6s 51ms/step - loss: 0.0452 - accuracy: 0.9832 - val_loss: 0.0559 - val_accuracy: 0.9799\n",
            "Epoch 100/170\n",
            "125/125 [==============================] - 6s 46ms/step - loss: 0.0446 - accuracy: 0.9834 - val_loss: 0.0544 - val_accuracy: 0.9802\n",
            "Epoch 101/170\n",
            "125/125 [==============================] - 7s 53ms/step - loss: 0.0443 - accuracy: 0.9835 - val_loss: 0.0533 - val_accuracy: 0.9805\n",
            "Epoch 102/170\n",
            "125/125 [==============================] - 6s 48ms/step - loss: 0.0436 - accuracy: 0.9837 - val_loss: 0.0545 - val_accuracy: 0.9800\n",
            "Epoch 103/170\n",
            "125/125 [==============================] - 6s 50ms/step - loss: 0.0432 - accuracy: 0.9839 - val_loss: 0.0539 - val_accuracy: 0.9805\n",
            "Epoch 104/170\n",
            "125/125 [==============================] - 6s 51ms/step - loss: 0.0429 - accuracy: 0.9839 - val_loss: 0.0529 - val_accuracy: 0.9807\n",
            "Epoch 105/170\n",
            "125/125 [==============================] - 6s 46ms/step - loss: 0.0425 - accuracy: 0.9841 - val_loss: 0.0524 - val_accuracy: 0.9809\n",
            "Epoch 106/170\n",
            "125/125 [==============================] - 7s 56ms/step - loss: 0.0422 - accuracy: 0.9842 - val_loss: 0.0584 - val_accuracy: 0.9789\n",
            "Epoch 107/170\n",
            "125/125 [==============================] - 6s 46ms/step - loss: 0.0419 - accuracy: 0.9843 - val_loss: 0.0542 - val_accuracy: 0.9801\n",
            "Epoch 108/170\n",
            "125/125 [==============================] - 6s 51ms/step - loss: 0.0412 - accuracy: 0.9845 - val_loss: 0.0517 - val_accuracy: 0.9812\n",
            "Epoch 109/170\n",
            "125/125 [==============================] - 6s 49ms/step - loss: 0.0408 - accuracy: 0.9846 - val_loss: 0.0518 - val_accuracy: 0.9809\n",
            "Epoch 110/170\n",
            "125/125 [==============================] - 6s 46ms/step - loss: 0.0404 - accuracy: 0.9847 - val_loss: 0.0511 - val_accuracy: 0.9813\n",
            "Epoch 111/170\n",
            "125/125 [==============================] - 7s 53ms/step - loss: 0.0404 - accuracy: 0.9847 - val_loss: 0.0507 - val_accuracy: 0.9815\n",
            "Epoch 112/170\n",
            "125/125 [==============================] - 6s 46ms/step - loss: 0.0400 - accuracy: 0.9849 - val_loss: 0.0525 - val_accuracy: 0.9806\n",
            "Epoch 113/170\n",
            "125/125 [==============================] - 6s 50ms/step - loss: 0.0396 - accuracy: 0.9850 - val_loss: 0.0504 - val_accuracy: 0.9814\n",
            "Epoch 114/170\n",
            "125/125 [==============================] - 6s 50ms/step - loss: 0.0392 - accuracy: 0.9852 - val_loss: 0.0508 - val_accuracy: 0.9814\n",
            "Epoch 115/170\n",
            "125/125 [==============================] - 6s 47ms/step - loss: 0.0391 - accuracy: 0.9852 - val_loss: 0.0501 - val_accuracy: 0.9816\n",
            "Epoch 116/170\n",
            "125/125 [==============================] - 6s 52ms/step - loss: 0.0387 - accuracy: 0.9853 - val_loss: 0.0486 - val_accuracy: 0.9821\n",
            "Epoch 117/170\n",
            "125/125 [==============================] - 6s 46ms/step - loss: 0.0385 - accuracy: 0.9854 - val_loss: 0.0503 - val_accuracy: 0.9815\n",
            "Epoch 118/170\n",
            "125/125 [==============================] - 6s 50ms/step - loss: 0.0382 - accuracy: 0.9855 - val_loss: 0.0486 - val_accuracy: 0.9822\n",
            "Epoch 119/170\n",
            "125/125 [==============================] - 6s 47ms/step - loss: 0.0379 - accuracy: 0.9856 - val_loss: 0.0503 - val_accuracy: 0.9816\n",
            "Epoch 120/170\n",
            "125/125 [==============================] - 6s 47ms/step - loss: 0.0376 - accuracy: 0.9857 - val_loss: 0.0491 - val_accuracy: 0.9820\n",
            "Epoch 121/170\n",
            "125/125 [==============================] - 7s 53ms/step - loss: 0.0374 - accuracy: 0.9858 - val_loss: 0.0496 - val_accuracy: 0.9815\n",
            "Epoch 122/170\n",
            "125/125 [==============================] - 6s 45ms/step - loss: 0.0371 - accuracy: 0.9859 - val_loss: 0.0503 - val_accuracy: 0.9816\n",
            "Epoch 123/170\n",
            "125/125 [==============================] - 6s 51ms/step - loss: 0.0369 - accuracy: 0.9859 - val_loss: 0.0476 - val_accuracy: 0.9825\n",
            "Epoch 124/170\n",
            "125/125 [==============================] - 6s 47ms/step - loss: 0.0366 - accuracy: 0.9861 - val_loss: 0.0473 - val_accuracy: 0.9825\n",
            "Epoch 125/170\n",
            "125/125 [==============================] - 6s 49ms/step - loss: 0.0365 - accuracy: 0.9861 - val_loss: 0.0472 - val_accuracy: 0.9825\n",
            "Epoch 126/170\n",
            "125/125 [==============================] - 7s 53ms/step - loss: 0.0363 - accuracy: 0.9861 - val_loss: 0.0488 - val_accuracy: 0.9821\n",
            "Epoch 127/170\n",
            "125/125 [==============================] - 6s 45ms/step - loss: 0.0359 - accuracy: 0.9862 - val_loss: 0.0486 - val_accuracy: 0.9821\n",
            "Epoch 128/170\n",
            "125/125 [==============================] - 7s 52ms/step - loss: 0.0358 - accuracy: 0.9863 - val_loss: 0.0517 - val_accuracy: 0.9813\n",
            "Epoch 129/170\n",
            "125/125 [==============================] - 6s 46ms/step - loss: 0.0355 - accuracy: 0.9864 - val_loss: 0.0490 - val_accuracy: 0.9822\n",
            "Epoch 130/170\n",
            "125/125 [==============================] - 6s 48ms/step - loss: 0.0353 - accuracy: 0.9865 - val_loss: 0.0462 - val_accuracy: 0.9828\n",
            "Epoch 131/170\n",
            "125/125 [==============================] - 6s 49ms/step - loss: 0.0351 - accuracy: 0.9866 - val_loss: 0.0466 - val_accuracy: 0.9828\n",
            "Epoch 132/170\n",
            "125/125 [==============================] - 6s 45ms/step - loss: 0.0349 - accuracy: 0.9866 - val_loss: 0.0467 - val_accuracy: 0.9828\n",
            "Epoch 133/170\n",
            "125/125 [==============================] - 6s 52ms/step - loss: 0.0347 - accuracy: 0.9867 - val_loss: 0.0469 - val_accuracy: 0.9827\n",
            "Epoch 134/170\n",
            "125/125 [==============================] - 6s 45ms/step - loss: 0.0345 - accuracy: 0.9868 - val_loss: 0.0455 - val_accuracy: 0.9831\n",
            "Epoch 135/170\n",
            "125/125 [==============================] - 6s 48ms/step - loss: 0.0344 - accuracy: 0.9868 - val_loss: 0.0472 - val_accuracy: 0.9826\n",
            "Epoch 136/170\n",
            "125/125 [==============================] - 6s 50ms/step - loss: 0.0342 - accuracy: 0.9869 - val_loss: 0.0455 - val_accuracy: 0.9832\n",
            "Epoch 137/170\n",
            "125/125 [==============================] - 6s 45ms/step - loss: 0.0340 - accuracy: 0.9869 - val_loss: 0.0456 - val_accuracy: 0.9831\n",
            "Epoch 138/170\n",
            "125/125 [==============================] - 7s 52ms/step - loss: 0.0339 - accuracy: 0.9869 - val_loss: 0.0455 - val_accuracy: 0.9831\n",
            "Epoch 139/170\n",
            "125/125 [==============================] - 6s 46ms/step - loss: 0.0336 - accuracy: 0.9871 - val_loss: 0.0486 - val_accuracy: 0.9822\n",
            "Epoch 140/170\n",
            "125/125 [==============================] - 6s 48ms/step - loss: 0.0335 - accuracy: 0.9871 - val_loss: 0.0458 - val_accuracy: 0.9831\n",
            "Epoch 141/170\n",
            "125/125 [==============================] - 6s 49ms/step - loss: 0.0334 - accuracy: 0.9872 - val_loss: 0.0468 - val_accuracy: 0.9828\n",
            "Epoch 142/170\n",
            "125/125 [==============================] - 6s 47ms/step - loss: 0.0331 - accuracy: 0.9873 - val_loss: 0.0471 - val_accuracy: 0.9826\n",
            "Epoch 143/170\n",
            "125/125 [==============================] - 7s 52ms/step - loss: 0.0328 - accuracy: 0.9874 - val_loss: 0.0486 - val_accuracy: 0.9824\n",
            "Epoch 144/170\n",
            "125/125 [==============================] - 6s 45ms/step - loss: 0.0329 - accuracy: 0.9874 - val_loss: 0.0481 - val_accuracy: 0.9825\n",
            "Epoch 145/170\n",
            "125/125 [==============================] - 6s 48ms/step - loss: 0.0327 - accuracy: 0.9874 - val_loss: 0.0445 - val_accuracy: 0.9836\n",
            "Epoch 146/170\n",
            "125/125 [==============================] - 6s 49ms/step - loss: 0.0325 - accuracy: 0.9875 - val_loss: 0.0452 - val_accuracy: 0.9833\n",
            "Epoch 147/170\n",
            "125/125 [==============================] - 6s 46ms/step - loss: 0.0323 - accuracy: 0.9875 - val_loss: 0.0446 - val_accuracy: 0.9835\n",
            "Epoch 148/170\n",
            "125/125 [==============================] - 6s 52ms/step - loss: 0.0323 - accuracy: 0.9876 - val_loss: 0.0446 - val_accuracy: 0.9835\n",
            "Epoch 149/170\n",
            "125/125 [==============================] - 6s 46ms/step - loss: 0.0320 - accuracy: 0.9876 - val_loss: 0.0445 - val_accuracy: 0.9836\n",
            "Epoch 150/170\n",
            "125/125 [==============================] - 6s 48ms/step - loss: 0.0319 - accuracy: 0.9877 - val_loss: 0.0448 - val_accuracy: 0.9834\n",
            "Epoch 151/170\n",
            "125/125 [==============================] - 6s 50ms/step - loss: 0.0319 - accuracy: 0.9877 - val_loss: 0.0447 - val_accuracy: 0.9835\n",
            "Epoch 152/170\n",
            "125/125 [==============================] - 6s 45ms/step - loss: 0.0317 - accuracy: 0.9877 - val_loss: 0.0441 - val_accuracy: 0.9837\n",
            "Epoch 153/170\n",
            "125/125 [==============================] - 7s 53ms/step - loss: 0.0316 - accuracy: 0.9878 - val_loss: 0.0458 - val_accuracy: 0.9833\n",
            "Epoch 154/170\n",
            "125/125 [==============================] - 6s 46ms/step - loss: 0.0314 - accuracy: 0.9879 - val_loss: 0.0441 - val_accuracy: 0.9838\n",
            "Epoch 155/170\n",
            "125/125 [==============================] - 6s 49ms/step - loss: 0.0313 - accuracy: 0.9879 - val_loss: 0.0433 - val_accuracy: 0.9839\n",
            "Epoch 156/170\n",
            "125/125 [==============================] - 6s 49ms/step - loss: 0.0311 - accuracy: 0.9880 - val_loss: 0.0436 - val_accuracy: 0.9839\n",
            "Epoch 157/170\n",
            "125/125 [==============================] - 6s 46ms/step - loss: 0.0310 - accuracy: 0.9880 - val_loss: 0.0432 - val_accuracy: 0.9840\n",
            "Epoch 158/170\n",
            "125/125 [==============================] - 7s 53ms/step - loss: 0.0310 - accuracy: 0.9880 - val_loss: 0.0445 - val_accuracy: 0.9836\n",
            "Epoch 159/170\n",
            "125/125 [==============================] - 6s 46ms/step - loss: 0.0308 - accuracy: 0.9881 - val_loss: 0.0438 - val_accuracy: 0.9838\n",
            "Epoch 160/170\n",
            "125/125 [==============================] - 6s 49ms/step - loss: 0.0306 - accuracy: 0.9882 - val_loss: 0.0432 - val_accuracy: 0.9841\n",
            "Epoch 161/170\n",
            "125/125 [==============================] - 6s 49ms/step - loss: 0.0305 - accuracy: 0.9882 - val_loss: 0.0437 - val_accuracy: 0.9839\n",
            "Epoch 162/170\n",
            "125/125 [==============================] - 6s 46ms/step - loss: 0.0304 - accuracy: 0.9883 - val_loss: 0.0431 - val_accuracy: 0.9841\n",
            "Epoch 163/170\n",
            "125/125 [==============================] - 7s 53ms/step - loss: 0.0303 - accuracy: 0.9883 - val_loss: 0.0432 - val_accuracy: 0.9840\n",
            "Epoch 164/170\n",
            "125/125 [==============================] - 6s 46ms/step - loss: 0.0302 - accuracy: 0.9883 - val_loss: 0.0426 - val_accuracy: 0.9843\n",
            "Epoch 165/170\n",
            "125/125 [==============================] - 6s 50ms/step - loss: 0.0302 - accuracy: 0.9883 - val_loss: 0.0426 - val_accuracy: 0.9843\n",
            "Epoch 166/170\n",
            "125/125 [==============================] - 6s 49ms/step - loss: 0.0299 - accuracy: 0.9884 - val_loss: 0.0435 - val_accuracy: 0.9840\n",
            "Epoch 167/170\n",
            "125/125 [==============================] - 6s 46ms/step - loss: 0.0299 - accuracy: 0.9884 - val_loss: 0.0437 - val_accuracy: 0.9839\n",
            "Epoch 168/170\n",
            "125/125 [==============================] - 6s 52ms/step - loss: 0.0298 - accuracy: 0.9885 - val_loss: 0.0426 - val_accuracy: 0.9844\n",
            "Epoch 169/170\n",
            "125/125 [==============================] - 6s 49ms/step - loss: 0.0296 - accuracy: 0.9885 - val_loss: 0.0429 - val_accuracy: 0.9842\n",
            "Epoch 170/170\n",
            "125/125 [==============================] - 6s 50ms/step - loss: 0.0296 - accuracy: 0.9885 - val_loss: 0.0432 - val_accuracy: 0.9840\n"
          ]
        }
      ],
      "source": [
        "# OTHER THAN SETTING THE EPOCHS NUMBER, DO NOT CHANGE ANY OTHER CODE\n",
        "\n",
        "### START CODE HERE ###\n",
        "EPOCHS = 170\n",
        "### END CODE HERE ###\n",
        "\n",
        "steps_per_epoch = 4000 // BATCH_SIZE\n",
        "validation_steps = 800 // BATCH_SIZE\n",
        "test_steps = 200 // BATCH_SIZE\n",
        "\n",
        "\n",
        "history = model.fit(training_dataset,\n",
        "                    steps_per_epoch=steps_per_epoch,\n",
        "                    validation_data=validation_dataset,\n",
        "                    validation_steps=validation_steps,\n",
        "                    epochs=EPOCHS)"
      ]
    },
    {
      "cell_type": "markdown",
      "metadata": {
        "id": "BLNzLB3peeNG"
      },
      "source": [
        "**Expected Output:**\n",
        "\n",
        "The losses should generally be decreasing and the accuracies should generally be increasing. For example, observing the first 4 epochs should output something similar:\n",
        "\n",
        "```txt\n",
        "Epoch 1/70\n",
        "125/125 [==============================] - 6s 50ms/step - loss: 0.5542 - accuracy: 0.8635 - val_loss: 0.5335 - val_accuracy: 0.9427\n",
        "Epoch 2/70\n",
        "125/125 [==============================] - 6s 47ms/step - loss: 0.2315 - accuracy: 0.9425 - val_loss: 0.3362 - val_accuracy: 0.9427\n",
        "Epoch 3/70\n",
        "125/125 [==============================] - 6s 47ms/step - loss: 0.2118 - accuracy: 0.9426 - val_loss: 0.2592 - val_accuracy: 0.9427\n",
        "Epoch 4/70\n",
        "125/125 [==============================] - 6s 47ms/step - loss: 0.1782 - accuracy: 0.9431 - val_loss: 0.1770 - val_accuracy: 0.9432\n",
        "```"
      ]
    },
    {
      "cell_type": "markdown",
      "metadata": {
        "id": "eih-Q7GoXzJe"
      },
      "source": [
        "## Model Evaluation"
      ]
    },
    {
      "cell_type": "markdown",
      "metadata": {
        "id": "2bTkaFM2X1gr"
      },
      "source": [
        "### Make Predictions\n",
        "\n",
        "Let's get the predictions using our test dataset as input and print the shape."
      ]
    },
    {
      "cell_type": "code",
      "execution_count": 19,
      "metadata": {
        "id": "zENjQuK0luH5",
        "colab": {
          "base_uri": "https://localhost:8080/"
        },
        "outputId": "21e0fbf7-00dc-4d88-df04-c950e72d6871"
      },
      "outputs": [
        {
          "output_type": "stream",
          "name": "stdout",
          "text": [
            "(192, 64, 84, 11)\n"
          ]
        }
      ],
      "source": [
        "results = model.predict(test_dataset, steps=test_steps)\n",
        "\n",
        "print(results.shape)"
      ]
    },
    {
      "cell_type": "markdown",
      "metadata": {
        "id": "IReKPT_DZHjA"
      },
      "source": [
        "As you can see, the resulting shape is `(192, 64, 84, 11)`. This means that for each of the 192 images that we have in our test set, there are 11 predictions generated (i.e. one for each class: 0 to 1 plus background)."
      ]
    },
    {
      "cell_type": "markdown",
      "metadata": {
        "id": "OBPBqnHyaSaG"
      },
      "source": [
        "Thus, if you want to see the *probability* of the upper leftmost pixel of the 1st image belonging to class 0, then you can print something like `results[0,0,0,0]`. If you want the probability of the same pixel at class 10, then do `results[0,0,0,10]`.\n",
        "\n",
        "\n"
      ]
    },
    {
      "cell_type": "code",
      "execution_count": 20,
      "metadata": {
        "id": "jwFiR9WAf0Av",
        "colab": {
          "base_uri": "https://localhost:8080/"
        },
        "outputId": "05af0ff8-f6bb-4c10-f38f-1f281bab1a10"
      },
      "outputs": [
        {
          "output_type": "stream",
          "name": "stdout",
          "text": [
            "0.13625917\n",
            "0.999931\n"
          ]
        }
      ],
      "source": [
        "print(results[0,0,0,0])\n",
        "print(results[0,0,0,10])"
      ]
    },
    {
      "cell_type": "markdown",
      "metadata": {
        "id": "wKDsqzKEf28V"
      },
      "source": [
        "What we're interested in is to get the *index* of the highest probability of each of these 11 slices and combine them in a single image. We can do that by getting the [argmax](https://numpy.org/doc/stable/reference/generated/numpy.argmax.html) at this axis."
      ]
    },
    {
      "cell_type": "code",
      "execution_count": 21,
      "metadata": {
        "id": "0_Uj_uuV9TQt",
        "colab": {
          "base_uri": "https://localhost:8080/"
        },
        "outputId": "7d02649e-2e41-4a0c-a04f-5fb6ed0ba45a"
      },
      "outputs": [
        {
          "output_type": "stream",
          "name": "stdout",
          "text": [
            "(192, 64, 84)\n"
          ]
        }
      ],
      "source": [
        "results = np.argmax(results, axis=3)\n",
        "\n",
        "print(results.shape)"
      ]
    },
    {
      "cell_type": "markdown",
      "metadata": {
        "id": "ClaGbOLhdKD2"
      },
      "source": [
        "The new array generated per image now only specifies the indices of the class with the highest probability. Let's see the output class of the upper most left pixel. As you might have observed earlier when you inspected the dataset, the upper left corner is usually just part of the background (class 10). The actual digits are written somewhere in the middle parts of the image."
      ]
    },
    {
      "cell_type": "code",
      "execution_count": 22,
      "metadata": {
        "id": "aBeBwvHQd2pZ",
        "colab": {
          "base_uri": "https://localhost:8080/"
        },
        "outputId": "5686a662-1701-4057-9335-76926a5ec802"
      },
      "outputs": [
        {
          "output_type": "stream",
          "name": "stdout",
          "text": [
            "10\n",
            "[[10 10 10 ... 10 10 10]\n",
            " [10 10 10 ... 10 10 10]\n",
            " [10 10 10 ... 10 10 10]\n",
            " ...\n",
            " [10 10 10 ... 10 10 10]\n",
            " [10 10 10 ... 10 10 10]\n",
            " [10 10 10 ... 10 10 10]]\n"
          ]
        }
      ],
      "source": [
        "print(results[0,0,0])\n",
        "\n",
        "# prediction map for image 0\n",
        "print(results[0,:,:])"
      ]
    },
    {
      "cell_type": "markdown",
      "metadata": {
        "id": "V3FxyNgrg7IE"
      },
      "source": [
        "We will use this `results` array when we evaluate our predictions."
      ]
    },
    {
      "cell_type": "markdown",
      "metadata": {
        "id": "hpKDUuAWX5Pj"
      },
      "source": [
        "### Metrics\n",
        "\n",
        "We showed in the lectures two ways to evaluate your predictions. The *intersection over union (IOU)* and the *dice score*. Recall that:\n",
        "\n",
        "$$IOU = \\frac{area\\_of\\_overlap}{area\\_of\\_union}$$\n",
        "<br>\n",
        "$$Dice Score = 2 * \\frac{area\\_of\\_overlap}{combined\\_area}$$\n",
        "\n",
        "The code below does that for you as you've also seen in the ungraded lab. A small smoothing factor is introduced in the denominators to prevent possible division by zero."
      ]
    },
    {
      "cell_type": "code",
      "execution_count": 23,
      "metadata": {
        "id": "gKTpLmly_RXb"
      },
      "outputs": [],
      "source": [
        "def class_wise_metrics(y_true, y_pred):\n",
        "    ''' Computes the class-wise IOU and Dice Score.\n",
        "\n",
        "    Args:\n",
        "        y_true (tensor) - ground truth label maps\n",
        "        y_pred (tensor) - predicted label maps\n",
        "    '''\n",
        "    class_wise_iou = []\n",
        "    class_wise_dice_score = []\n",
        "\n",
        "    smoothing_factor = 0.00001\n",
        "\n",
        "    for i in range(n_classes):\n",
        "        intersection = np.sum((y_pred == i) * (y_true == i))\n",
        "        y_true_area = np.sum((y_true == i))\n",
        "        y_pred_area = np.sum((y_pred == i))\n",
        "        combined_area = y_true_area + y_pred_area\n",
        "\n",
        "        iou = (intersection) / (combined_area - intersection + smoothing_factor)\n",
        "        class_wise_iou.append(iou)\n",
        "\n",
        "        dice_score =  2 * ((intersection) / (combined_area + smoothing_factor))\n",
        "        class_wise_dice_score.append(dice_score)\n",
        "\n",
        "    return class_wise_iou, class_wise_dice_score\n"
      ]
    },
    {
      "cell_type": "markdown",
      "metadata": {
        "id": "FfWPwM4ZhHjE"
      },
      "source": [
        "### Visualize Predictions"
      ]
    },
    {
      "cell_type": "code",
      "execution_count": 24,
      "metadata": {
        "id": "Hkbsk_P1fpRM",
        "lines_to_next_cell": 2,
        "colab": {
          "base_uri": "https://localhost:8080/",
          "height": 333
        },
        "outputId": "9e7e87e7-569d-4728-8cef-42dad921f623"
      },
      "outputs": [
        {
          "output_type": "display_data",
          "data": {
            "text/plain": [
              "<Figure size 1500x400 with 3 Axes>"
            ],
            "image/png": "[encoded data removed]"
          },
          "metadata": {}
        }
      ],
      "source": [
        "# place a number here between 0 to 191 to pick an image from the test set\n",
        "integer_slider = 77\n",
        "\n",
        "ds = test_dataset.unbatch()\n",
        "ds = ds.batch(200)\n",
        "images = []\n",
        "\n",
        "y_true_segments = []\n",
        "for image, annotation in ds.take(2):\n",
        "    y_true_segments = annotation\n",
        "    images = image\n",
        "\n",
        "iou, dice_score = class_wise_metrics(np.argmax(y_true_segments[integer_slider], axis=2), results[integer_slider])\n",
        "show_annotation_and_prediction(image[integer_slider], annotation[integer_slider], results[integer_slider], iou, dice_score)\n"
      ]
    },
    {
      "cell_type": "markdown",
      "metadata": {
        "id": "EiG9K4t6X9iZ"
      },
      "source": [
        "### Compute IOU Score and Dice Score of your model"
      ]
    },
    {
      "cell_type": "code",
      "execution_count": 25,
      "metadata": {
        "id": "2706boF0CNNS",
        "lines_to_next_cell": 2,
        "colab": {
          "base_uri": "https://localhost:8080/"
        },
        "outputId": "b4ca385c-4774-4834-ddb6-0ffc7d295f72"
      },
      "outputs": [
        {
          "output_type": "stream",
          "name": "stdout",
          "text": [
            "Digit 0: IOU: 0.7640488245462358 Dice Score: 0.8662445323674884\n",
            "Digit 1: IOU: 0.7892775806473245 Dice Score: 0.8822304478456381\n",
            "Digit 2: IOU: 0.7405182116153233 Dice Score: 0.8509169357418792\n",
            "Digit 3: IOU: 0.6042080182556464 Dice Score: 0.7532788907421605\n",
            "Digit 4: IOU: 0.3838771588485159 Dice Score: 0.5547850203235221\n",
            "Digit 5: IOU: 0.6617085143808563 Dice Score: 0.7964194786922728\n",
            "Digit 6: IOU: 0.7662087240706089 Dice Score: 0.8676310037748151\n",
            "Digit 7: IOU: 0.7885105016096269 Dice Score: 0.8817510446821327\n",
            "Digit 8: IOU: 0.7172801626824129 Dice Score: 0.8353676683273537\n",
            "Digit 9: IOU: 0.7196018365702882 Dice Score: 0.8369400651554546\n",
            "\n",
            "Grade is 69.35239533226839\n",
            "You passed!\n"
          ]
        }
      ],
      "source": [
        "cls_wise_iou, cls_wise_dice_score = class_wise_metrics(np.argmax(y_true_segments, axis=3), results)\n",
        "\n",
        "average_iou = 0.0\n",
        "for idx, (iou, dice_score) in enumerate(zip(cls_wise_iou[:-1], cls_wise_dice_score[:-1])):\n",
        "    print(\"Digit {}: IOU: {} Dice Score: {}\".format(idx, iou, dice_score))\n",
        "    average_iou += iou\n",
        "\n",
        "grade = average_iou * 10\n",
        "\n",
        "print(\"\\nGrade is \" + str(grade))\n",
        "\n",
        "PASSING_GRADE = 60\n",
        "if (grade>PASSING_GRADE):\n",
        "    print(\"You passed!\")\n",
        "else:\n",
        "    print(\"You failed. Please check your model and re-train\")"
      ]
    },
    {
      "cell_type": "markdown",
      "metadata": {
        "id": "vvw0HLY2kV3w"
      },
      "source": [
        "## Save the Model\n",
        "\n",
        "Once you're satisfied with the results, you will need to save your model so you can upload it to the grader in the Coursera classroom. After running the cell below, please look for `student_model.h5` in the File Explorer on the left and download it. Then go back to the Coursera classroom and upload it to the Lab item that points to the autograder of Week 3."
      ]
    },
    {
      "cell_type": "code",
      "execution_count": 26,
      "metadata": {
        "id": "ULCfGHEKkaO0"
      },
      "outputs": [],
      "source": [
        "model.save(\"model.h5\")"
      ]
    },
    {
      "cell_type": "code",
      "execution_count": 27,
      "metadata": {
        "id": "QbVfJ2aLONqw",
        "colab": {
          "base_uri": "https://localhost:8080/",
          "height": 17
        },
        "outputId": "779d25a2-1bed-424f-8a2e-dee3e8f10641"
      },
      "outputs": [
        {
          "output_type": "display_data",
          "data": {
            "text/plain": [
              "<IPython.core.display.Javascript object>"
            ],
            "application/javascript": [
              "\n",
              "    async function download(id, filename, size) {\n",
              "      if (!google.colab.kernel.accessAllowed) {\n",
              "        return;\n",
              "      }\n",
              "      const div = document.createElement('div');\n",
              "      const label = document.createElement('label');\n",
              "      label.textContent = `Downloading \"${filename}\": `;\n",
              "      div.appendChild(label);\n",
              "      const progress = document.createElement('progress');\n",
              "      progress.max = size;\n",
              "      div.appendChild(progress);\n",
              "      document.body.appendChild(div);\n",
              "\n",
              "      const buffers = [];\n",
              "      let downloaded = 0;\n",
              "\n",
              "      const channel = await google.colab.kernel.comms.open(id);\n",
              "      // Send a message to notify the kernel that we're ready.\n",
              "      channel.send({})\n",
              "\n",
              "      for await (const message of channel.messages) {\n",
              "        // Send a message to notify the kernel that we're ready.\n",
              "        channel.send({})\n",
              "        if (message.buffers) {\n",
              "          for (const buffer of message.buffers) {\n",
              "            buffers.push(buffer);\n",
              "            downloaded += buffer.byteLength;\n",
              "            progress.value = downloaded;\n",
              "          }\n",
              "        }\n",
              "      }\n",
              "      const blob = new Blob(buffers, {type: 'application/binary'});\n",
              "      const a = document.createElement('a');\n",
              "      a.href = window.URL.createObjectURL(blob);\n",
              "      a.download = filename;\n",
              "      div.appendChild(a);\n",
              "      a.click();\n",
              "      div.remove();\n",
              "    }\n",
              "  "
            ]
          },
          "metadata": {}
        },
        {
          "output_type": "display_data",
          "data": {
            "text/plain": [
              "<IPython.core.display.Javascript object>"
            ],
            "application/javascript": [
              "download(\"download_6979e555-fdde-40df-94cf-cb37d401b832\", \"model.h5\", 72713088)"
            ]
          },
          "metadata": {}
        }
      ],
      "source": [
        "# You can also use this cell as a shortcut for downloading your model\n",
        "from google.colab import files\n",
        "files.download(\"model.h5\")"
      ]
    },
    {
      "cell_type": "markdown",
      "metadata": {
        "id": "dmyvoAynkgVw"
      },
      "source": [
        "**Congratulations on completing this assignment on image segmentation!**"
      ]
    }
  ],
  "metadata": {
    "accelerator": "GPU",
    "colab": {
      "provenance": []
    },
    "kernelspec": {
      "display_name": "Python 3 (ipykernel)",
      "language": "python",
      "name": "python3"
    },
    "language_info": {
      "codemirror_mode": {
        "name": "ipython",
        "version": 3
      },
      "file_extension": ".py",
      "mimetype": "text/x-python",
      "name": "python",
      "nbconvert_exporter": "python",
      "pygments_lexer": "ipython3",
      "version": "3.9.16"
    },
    "vscode": {
      "interpreter": {
        "hash": "56d44d6a8424451b5ce45d1ae0b0b7865dc60710e7f74571dd51dd80d7829ee9"
      }
    },
    "gpuClass": "standard"
  },
  "nbformat": 4,
  "nbformat_minor": 0
}